{
 "cells": [
  {
   "cell_type": "code",
   "execution_count": 1,
   "metadata": {},
   "outputs": [],
   "source": [
    "%load_ext sql"
   ]
  },
  {
   "cell_type": "code",
   "execution_count": 2,
   "metadata": {},
   "outputs": [],
   "source": [
    "import pandas as pd\n",
    "import numpy as np\n",
    "import matplotlib.pyplot as plt\n",
    "import seaborn as sb\n",
    "import os"
   ]
  },
  {
   "cell_type": "markdown",
   "metadata": {},
   "source": [
    "## Loading Data"
   ]
  },
  {
   "cell_type": "code",
   "execution_count": 3,
   "metadata": {
    "execution": {
     "iopub.execute_input": "2023-06-21T07:47:08.552605Z",
     "iopub.status.busy": "2023-06-21T07:47:08.552195Z",
     "iopub.status.idle": "2023-06-21T07:47:13.052863Z",
     "shell.execute_reply": "2023-06-21T07:47:13.051899Z",
     "shell.execute_reply.started": "2023-06-21T07:47:08.552575Z"
    }
   },
   "outputs": [],
   "source": [
    "customers_df = pd.read_csv(\"data/olist_customers_dataset.csv\")\n",
    "sellers_df = pd.read_csv(\"data/olist_sellers_dataset.csv\")\n",
    "orderreviews_df = pd.read_csv(\"data/olist_order_reviews_dataset.csv\")\n",
    "orderitems_df = pd.read_csv(\"data/olist_order_items_dataset.csv\")\n",
    "products_df = pd.read_csv(\"data/olist_products_dataset.csv\")\n",
    "geolocations_df = pd.read_csv(\"data/olist_geolocation_dataset.csv\")\n",
    "categoryname_df = pd.read_csv(\"data/product_category_name_translation.csv\")\n",
    "orders_df = pd.read_csv(\"data/olist_orders_dataset.csv\")\n",
    "payments_df = pd.read_csv(\"data/olist_order_payments_dataset.csv\")"
   ]
  },
  {
   "cell_type": "code",
   "execution_count": 4,
   "metadata": {},
   "outputs": [
    {
     "data": {
      "text/html": [
       "<div>\n",
       "<style scoped>\n",
       "    .dataframe tbody tr th:only-of-type {\n",
       "        vertical-align: middle;\n",
       "    }\n",
       "\n",
       "    .dataframe tbody tr th {\n",
       "        vertical-align: top;\n",
       "    }\n",
       "\n",
       "    .dataframe thead th {\n",
       "        text-align: right;\n",
       "    }\n",
       "</style>\n",
       "<table border=\"1\" class=\"dataframe\">\n",
       "  <thead>\n",
       "    <tr style=\"text-align: right;\">\n",
       "      <th></th>\n",
       "      <th>order_id</th>\n",
       "      <th>customer_id</th>\n",
       "      <th>order_status</th>\n",
       "      <th>order_purchase_timestamp</th>\n",
       "      <th>order_approved_at</th>\n",
       "      <th>order_delivered_carrier_date</th>\n",
       "      <th>order_delivered_customer_date</th>\n",
       "      <th>order_estimated_delivery_date</th>\n",
       "      <th>customer_unique_id</th>\n",
       "      <th>customer_zip_code_prefix</th>\n",
       "      <th>...</th>\n",
       "      <th>product_description_lenght</th>\n",
       "      <th>product_photos_qty</th>\n",
       "      <th>product_weight_g</th>\n",
       "      <th>product_length_cm</th>\n",
       "      <th>product_height_cm</th>\n",
       "      <th>product_width_cm</th>\n",
       "      <th>seller_zip_code_prefix</th>\n",
       "      <th>seller_city</th>\n",
       "      <th>seller_state</th>\n",
       "      <th>product_category_name_english</th>\n",
       "    </tr>\n",
       "  </thead>\n",
       "  <tbody>\n",
       "    <tr>\n",
       "      <th>0</th>\n",
       "      <td>e481f51cbdc54678b7cc49136f2d6af7</td>\n",
       "      <td>9ef432eb6251297304e76186b10a928d</td>\n",
       "      <td>delivered</td>\n",
       "      <td>2017-10-02 10:56:33</td>\n",
       "      <td>2017-10-02 11:07:15</td>\n",
       "      <td>2017-10-04 19:55:00</td>\n",
       "      <td>2017-10-10 21:25:13</td>\n",
       "      <td>2017-10-18 00:00:00</td>\n",
       "      <td>7c396fd4830fd04220f754e42b4e5bff</td>\n",
       "      <td>3149</td>\n",
       "      <td>...</td>\n",
       "      <td>268.0</td>\n",
       "      <td>4.0</td>\n",
       "      <td>500.0</td>\n",
       "      <td>19.0</td>\n",
       "      <td>8.0</td>\n",
       "      <td>13.0</td>\n",
       "      <td>9350</td>\n",
       "      <td>maua</td>\n",
       "      <td>SP</td>\n",
       "      <td>housewares</td>\n",
       "    </tr>\n",
       "    <tr>\n",
       "      <th>1</th>\n",
       "      <td>e481f51cbdc54678b7cc49136f2d6af7</td>\n",
       "      <td>9ef432eb6251297304e76186b10a928d</td>\n",
       "      <td>delivered</td>\n",
       "      <td>2017-10-02 10:56:33</td>\n",
       "      <td>2017-10-02 11:07:15</td>\n",
       "      <td>2017-10-04 19:55:00</td>\n",
       "      <td>2017-10-10 21:25:13</td>\n",
       "      <td>2017-10-18 00:00:00</td>\n",
       "      <td>7c396fd4830fd04220f754e42b4e5bff</td>\n",
       "      <td>3149</td>\n",
       "      <td>...</td>\n",
       "      <td>268.0</td>\n",
       "      <td>4.0</td>\n",
       "      <td>500.0</td>\n",
       "      <td>19.0</td>\n",
       "      <td>8.0</td>\n",
       "      <td>13.0</td>\n",
       "      <td>9350</td>\n",
       "      <td>maua</td>\n",
       "      <td>SP</td>\n",
       "      <td>housewares</td>\n",
       "    </tr>\n",
       "    <tr>\n",
       "      <th>2</th>\n",
       "      <td>e481f51cbdc54678b7cc49136f2d6af7</td>\n",
       "      <td>9ef432eb6251297304e76186b10a928d</td>\n",
       "      <td>delivered</td>\n",
       "      <td>2017-10-02 10:56:33</td>\n",
       "      <td>2017-10-02 11:07:15</td>\n",
       "      <td>2017-10-04 19:55:00</td>\n",
       "      <td>2017-10-10 21:25:13</td>\n",
       "      <td>2017-10-18 00:00:00</td>\n",
       "      <td>7c396fd4830fd04220f754e42b4e5bff</td>\n",
       "      <td>3149</td>\n",
       "      <td>...</td>\n",
       "      <td>268.0</td>\n",
       "      <td>4.0</td>\n",
       "      <td>500.0</td>\n",
       "      <td>19.0</td>\n",
       "      <td>8.0</td>\n",
       "      <td>13.0</td>\n",
       "      <td>9350</td>\n",
       "      <td>maua</td>\n",
       "      <td>SP</td>\n",
       "      <td>housewares</td>\n",
       "    </tr>\n",
       "    <tr>\n",
       "      <th>3</th>\n",
       "      <td>128e10d95713541c87cd1a2e48201934</td>\n",
       "      <td>a20e8105f23924cd00833fd87daa0831</td>\n",
       "      <td>delivered</td>\n",
       "      <td>2017-08-15 18:29:31</td>\n",
       "      <td>2017-08-15 20:05:16</td>\n",
       "      <td>2017-08-17 15:28:33</td>\n",
       "      <td>2017-08-18 14:44:43</td>\n",
       "      <td>2017-08-28 00:00:00</td>\n",
       "      <td>3a51803cc0d012c3b5dc8b7528cb05f7</td>\n",
       "      <td>3366</td>\n",
       "      <td>...</td>\n",
       "      <td>268.0</td>\n",
       "      <td>4.0</td>\n",
       "      <td>500.0</td>\n",
       "      <td>19.0</td>\n",
       "      <td>8.0</td>\n",
       "      <td>13.0</td>\n",
       "      <td>9350</td>\n",
       "      <td>maua</td>\n",
       "      <td>SP</td>\n",
       "      <td>housewares</td>\n",
       "    </tr>\n",
       "    <tr>\n",
       "      <th>4</th>\n",
       "      <td>0e7e841ddf8f8f2de2bad69267ecfbcf</td>\n",
       "      <td>26c7ac168e1433912a51b924fbd34d34</td>\n",
       "      <td>delivered</td>\n",
       "      <td>2017-08-02 18:24:47</td>\n",
       "      <td>2017-08-02 18:43:15</td>\n",
       "      <td>2017-08-04 17:35:43</td>\n",
       "      <td>2017-08-07 18:30:01</td>\n",
       "      <td>2017-08-15 00:00:00</td>\n",
       "      <td>ef0996a1a279c26e7ecbd737be23d235</td>\n",
       "      <td>2290</td>\n",
       "      <td>...</td>\n",
       "      <td>268.0</td>\n",
       "      <td>4.0</td>\n",
       "      <td>500.0</td>\n",
       "      <td>19.0</td>\n",
       "      <td>8.0</td>\n",
       "      <td>13.0</td>\n",
       "      <td>9350</td>\n",
       "      <td>maua</td>\n",
       "      <td>SP</td>\n",
       "      <td>housewares</td>\n",
       "    </tr>\n",
       "    <tr>\n",
       "      <th>...</th>\n",
       "      <td>...</td>\n",
       "      <td>...</td>\n",
       "      <td>...</td>\n",
       "      <td>...</td>\n",
       "      <td>...</td>\n",
       "      <td>...</td>\n",
       "      <td>...</td>\n",
       "      <td>...</td>\n",
       "      <td>...</td>\n",
       "      <td>...</td>\n",
       "      <td>...</td>\n",
       "      <td>...</td>\n",
       "      <td>...</td>\n",
       "      <td>...</td>\n",
       "      <td>...</td>\n",
       "      <td>...</td>\n",
       "      <td>...</td>\n",
       "      <td>...</td>\n",
       "      <td>...</td>\n",
       "      <td>...</td>\n",
       "      <td>...</td>\n",
       "    </tr>\n",
       "    <tr>\n",
       "      <th>115604</th>\n",
       "      <td>30b0ea32347476f4b427daf62e09a5bb</td>\n",
       "      <td>9d9cfbce48737214f23bf294daf3c6f7</td>\n",
       "      <td>delivered</td>\n",
       "      <td>2017-08-12 19:20:39</td>\n",
       "      <td>2017-08-12 19:30:17</td>\n",
       "      <td>2017-08-14 18:26:28</td>\n",
       "      <td>2017-08-17 18:28:10</td>\n",
       "      <td>2017-09-05 00:00:00</td>\n",
       "      <td>6c861f46d09c560422f6ba6b33c017fe</td>\n",
       "      <td>9371</td>\n",
       "      <td>...</td>\n",
       "      <td>232.0</td>\n",
       "      <td>1.0</td>\n",
       "      <td>7600.0</td>\n",
       "      <td>55.0</td>\n",
       "      <td>15.0</td>\n",
       "      <td>55.0</td>\n",
       "      <td>89701</td>\n",
       "      <td>concordia</td>\n",
       "      <td>SC</td>\n",
       "      <td>la_cuisine</td>\n",
       "    </tr>\n",
       "    <tr>\n",
       "      <th>115605</th>\n",
       "      <td>1ce0acf125f1bcd636276dd213363196</td>\n",
       "      <td>d11524bb77c28efad04e4467eac8a660</td>\n",
       "      <td>delivered</td>\n",
       "      <td>2017-07-31 18:10:29</td>\n",
       "      <td>2017-07-31 18:25:20</td>\n",
       "      <td>2017-08-02 18:22:30</td>\n",
       "      <td>2017-08-09 20:38:07</td>\n",
       "      <td>2017-08-28 00:00:00</td>\n",
       "      <td>6968d41eb700f1ea39424e04b854bf7e</td>\n",
       "      <td>30130</td>\n",
       "      <td>...</td>\n",
       "      <td>429.0</td>\n",
       "      <td>1.0</td>\n",
       "      <td>2700.0</td>\n",
       "      <td>85.0</td>\n",
       "      <td>7.0</td>\n",
       "      <td>40.0</td>\n",
       "      <td>89701</td>\n",
       "      <td>concordia</td>\n",
       "      <td>SC</td>\n",
       "      <td>la_cuisine</td>\n",
       "    </tr>\n",
       "    <tr>\n",
       "      <th>115606</th>\n",
       "      <td>1ce0acf125f1bcd636276dd213363196</td>\n",
       "      <td>d11524bb77c28efad04e4467eac8a660</td>\n",
       "      <td>delivered</td>\n",
       "      <td>2017-07-31 18:10:29</td>\n",
       "      <td>2017-07-31 18:25:20</td>\n",
       "      <td>2017-08-02 18:22:30</td>\n",
       "      <td>2017-08-09 20:38:07</td>\n",
       "      <td>2017-08-28 00:00:00</td>\n",
       "      <td>6968d41eb700f1ea39424e04b854bf7e</td>\n",
       "      <td>30130</td>\n",
       "      <td>...</td>\n",
       "      <td>429.0</td>\n",
       "      <td>1.0</td>\n",
       "      <td>2700.0</td>\n",
       "      <td>85.0</td>\n",
       "      <td>7.0</td>\n",
       "      <td>40.0</td>\n",
       "      <td>89701</td>\n",
       "      <td>concordia</td>\n",
       "      <td>SC</td>\n",
       "      <td>la_cuisine</td>\n",
       "    </tr>\n",
       "    <tr>\n",
       "      <th>115607</th>\n",
       "      <td>c72888e51a36defb7b5d49201fcbccf7</td>\n",
       "      <td>c3cd86c3cbac654f8558a8286ba93c1c</td>\n",
       "      <td>delivered</td>\n",
       "      <td>2017-07-11 10:45:57</td>\n",
       "      <td>2017-07-11 10:55:14</td>\n",
       "      <td>2017-07-11 19:14:48</td>\n",
       "      <td>2017-07-19 17:27:43</td>\n",
       "      <td>2017-08-04 00:00:00</td>\n",
       "      <td>d8b80a0bd7560fab10e804f36d99fe33</td>\n",
       "      <td>90220</td>\n",
       "      <td>...</td>\n",
       "      <td>532.0</td>\n",
       "      <td>1.0</td>\n",
       "      <td>3600.0</td>\n",
       "      <td>30.0</td>\n",
       "      <td>30.0</td>\n",
       "      <td>30.0</td>\n",
       "      <td>13720</td>\n",
       "      <td>scao jose do rio pardo</td>\n",
       "      <td>SP</td>\n",
       "      <td>la_cuisine</td>\n",
       "    </tr>\n",
       "    <tr>\n",
       "      <th>115608</th>\n",
       "      <td>c72888e51a36defb7b5d49201fcbccf7</td>\n",
       "      <td>c3cd86c3cbac654f8558a8286ba93c1c</td>\n",
       "      <td>delivered</td>\n",
       "      <td>2017-07-11 10:45:57</td>\n",
       "      <td>2017-07-11 10:55:14</td>\n",
       "      <td>2017-07-11 19:14:48</td>\n",
       "      <td>2017-07-19 17:27:43</td>\n",
       "      <td>2017-08-04 00:00:00</td>\n",
       "      <td>d8b80a0bd7560fab10e804f36d99fe33</td>\n",
       "      <td>90220</td>\n",
       "      <td>...</td>\n",
       "      <td>532.0</td>\n",
       "      <td>1.0</td>\n",
       "      <td>3600.0</td>\n",
       "      <td>30.0</td>\n",
       "      <td>30.0</td>\n",
       "      <td>30.0</td>\n",
       "      <td>13720</td>\n",
       "      <td>scao jose do rio pardo</td>\n",
       "      <td>SP</td>\n",
       "      <td>la_cuisine</td>\n",
       "    </tr>\n",
       "  </tbody>\n",
       "</table>\n",
       "<p>115609 rows × 40 columns</p>\n",
       "</div>"
      ],
      "text/plain": [
       "                                order_id                       customer_id  \\\n",
       "0       e481f51cbdc54678b7cc49136f2d6af7  9ef432eb6251297304e76186b10a928d   \n",
       "1       e481f51cbdc54678b7cc49136f2d6af7  9ef432eb6251297304e76186b10a928d   \n",
       "2       e481f51cbdc54678b7cc49136f2d6af7  9ef432eb6251297304e76186b10a928d   \n",
       "3       128e10d95713541c87cd1a2e48201934  a20e8105f23924cd00833fd87daa0831   \n",
       "4       0e7e841ddf8f8f2de2bad69267ecfbcf  26c7ac168e1433912a51b924fbd34d34   \n",
       "...                                  ...                               ...   \n",
       "115604  30b0ea32347476f4b427daf62e09a5bb  9d9cfbce48737214f23bf294daf3c6f7   \n",
       "115605  1ce0acf125f1bcd636276dd213363196  d11524bb77c28efad04e4467eac8a660   \n",
       "115606  1ce0acf125f1bcd636276dd213363196  d11524bb77c28efad04e4467eac8a660   \n",
       "115607  c72888e51a36defb7b5d49201fcbccf7  c3cd86c3cbac654f8558a8286ba93c1c   \n",
       "115608  c72888e51a36defb7b5d49201fcbccf7  c3cd86c3cbac654f8558a8286ba93c1c   \n",
       "\n",
       "       order_status order_purchase_timestamp    order_approved_at  \\\n",
       "0         delivered      2017-10-02 10:56:33  2017-10-02 11:07:15   \n",
       "1         delivered      2017-10-02 10:56:33  2017-10-02 11:07:15   \n",
       "2         delivered      2017-10-02 10:56:33  2017-10-02 11:07:15   \n",
       "3         delivered      2017-08-15 18:29:31  2017-08-15 20:05:16   \n",
       "4         delivered      2017-08-02 18:24:47  2017-08-02 18:43:15   \n",
       "...             ...                      ...                  ...   \n",
       "115604    delivered      2017-08-12 19:20:39  2017-08-12 19:30:17   \n",
       "115605    delivered      2017-07-31 18:10:29  2017-07-31 18:25:20   \n",
       "115606    delivered      2017-07-31 18:10:29  2017-07-31 18:25:20   \n",
       "115607    delivered      2017-07-11 10:45:57  2017-07-11 10:55:14   \n",
       "115608    delivered      2017-07-11 10:45:57  2017-07-11 10:55:14   \n",
       "\n",
       "       order_delivered_carrier_date order_delivered_customer_date  \\\n",
       "0               2017-10-04 19:55:00           2017-10-10 21:25:13   \n",
       "1               2017-10-04 19:55:00           2017-10-10 21:25:13   \n",
       "2               2017-10-04 19:55:00           2017-10-10 21:25:13   \n",
       "3               2017-08-17 15:28:33           2017-08-18 14:44:43   \n",
       "4               2017-08-04 17:35:43           2017-08-07 18:30:01   \n",
       "...                             ...                           ...   \n",
       "115604          2017-08-14 18:26:28           2017-08-17 18:28:10   \n",
       "115605          2017-08-02 18:22:30           2017-08-09 20:38:07   \n",
       "115606          2017-08-02 18:22:30           2017-08-09 20:38:07   \n",
       "115607          2017-07-11 19:14:48           2017-07-19 17:27:43   \n",
       "115608          2017-07-11 19:14:48           2017-07-19 17:27:43   \n",
       "\n",
       "       order_estimated_delivery_date                customer_unique_id  \\\n",
       "0                2017-10-18 00:00:00  7c396fd4830fd04220f754e42b4e5bff   \n",
       "1                2017-10-18 00:00:00  7c396fd4830fd04220f754e42b4e5bff   \n",
       "2                2017-10-18 00:00:00  7c396fd4830fd04220f754e42b4e5bff   \n",
       "3                2017-08-28 00:00:00  3a51803cc0d012c3b5dc8b7528cb05f7   \n",
       "4                2017-08-15 00:00:00  ef0996a1a279c26e7ecbd737be23d235   \n",
       "...                              ...                               ...   \n",
       "115604           2017-09-05 00:00:00  6c861f46d09c560422f6ba6b33c017fe   \n",
       "115605           2017-08-28 00:00:00  6968d41eb700f1ea39424e04b854bf7e   \n",
       "115606           2017-08-28 00:00:00  6968d41eb700f1ea39424e04b854bf7e   \n",
       "115607           2017-08-04 00:00:00  d8b80a0bd7560fab10e804f36d99fe33   \n",
       "115608           2017-08-04 00:00:00  d8b80a0bd7560fab10e804f36d99fe33   \n",
       "\n",
       "        customer_zip_code_prefix  ... product_description_lenght  \\\n",
       "0                           3149  ...                      268.0   \n",
       "1                           3149  ...                      268.0   \n",
       "2                           3149  ...                      268.0   \n",
       "3                           3366  ...                      268.0   \n",
       "4                           2290  ...                      268.0   \n",
       "...                          ...  ...                        ...   \n",
       "115604                      9371  ...                      232.0   \n",
       "115605                     30130  ...                      429.0   \n",
       "115606                     30130  ...                      429.0   \n",
       "115607                     90220  ...                      532.0   \n",
       "115608                     90220  ...                      532.0   \n",
       "\n",
       "       product_photos_qty product_weight_g  product_length_cm  \\\n",
       "0                     4.0            500.0               19.0   \n",
       "1                     4.0            500.0               19.0   \n",
       "2                     4.0            500.0               19.0   \n",
       "3                     4.0            500.0               19.0   \n",
       "4                     4.0            500.0               19.0   \n",
       "...                   ...              ...                ...   \n",
       "115604                1.0           7600.0               55.0   \n",
       "115605                1.0           2700.0               85.0   \n",
       "115606                1.0           2700.0               85.0   \n",
       "115607                1.0           3600.0               30.0   \n",
       "115608                1.0           3600.0               30.0   \n",
       "\n",
       "       product_height_cm product_width_cm seller_zip_code_prefix  \\\n",
       "0                    8.0             13.0                   9350   \n",
       "1                    8.0             13.0                   9350   \n",
       "2                    8.0             13.0                   9350   \n",
       "3                    8.0             13.0                   9350   \n",
       "4                    8.0             13.0                   9350   \n",
       "...                  ...              ...                    ...   \n",
       "115604              15.0             55.0                  89701   \n",
       "115605               7.0             40.0                  89701   \n",
       "115606               7.0             40.0                  89701   \n",
       "115607              30.0             30.0                  13720   \n",
       "115608              30.0             30.0                  13720   \n",
       "\n",
       "                   seller_city  seller_state product_category_name_english  \n",
       "0                         maua            SP                    housewares  \n",
       "1                         maua            SP                    housewares  \n",
       "2                         maua            SP                    housewares  \n",
       "3                         maua            SP                    housewares  \n",
       "4                         maua            SP                    housewares  \n",
       "...                        ...           ...                           ...  \n",
       "115604               concordia            SC                    la_cuisine  \n",
       "115605               concordia            SC                    la_cuisine  \n",
       "115606               concordia            SC                    la_cuisine  \n",
       "115607  scao jose do rio pardo            SP                    la_cuisine  \n",
       "115608  scao jose do rio pardo            SP                    la_cuisine  \n",
       "\n",
       "[115609 rows x 40 columns]"
      ]
     },
     "execution_count": 4,
     "metadata": {},
     "output_type": "execute_result"
    }
   ],
   "source": [
    "df= pd.merge(orders_df, customers_df, on='customer_id', how='inner')\n",
    "df= pd.merge(df, orderreviews_df, on='order_id', how='inner')\n",
    "df= pd.merge(df, orderitems_df, on='order_id', how='inner')\n",
    "df= pd.merge(df, payments_df, on='order_id', how='inner')\n",
    "df= pd.merge(df, products_df, on='product_id', how='inner')\n",
    "df= pd.merge(df, sellers_df, on='seller_id', how='inner')\n",
    "df= pd.merge(df, categoryname_df, on='product_category_name', how='inner')\n",
    "df"
   ]
  },
  {
   "cell_type": "code",
   "execution_count": 5,
   "metadata": {},
   "outputs": [
    {
     "data": {
      "text/plain": [
       "Index(['order_id', 'customer_id', 'order_status', 'order_purchase_timestamp',\n",
       "       'order_approved_at', 'order_delivered_carrier_date',\n",
       "       'order_delivered_customer_date', 'order_estimated_delivery_date',\n",
       "       'customer_unique_id', 'customer_zip_code_prefix', 'customer_city',\n",
       "       'customer_state', 'review_id', 'review_score', 'review_comment_title',\n",
       "       'review_comment_message', 'review_creation_date',\n",
       "       'review_answer_timestamp', 'order_item_id', 'product_id', 'seller_id',\n",
       "       'shipping_limit_date', 'price', 'freight_value', 'payment_sequential',\n",
       "       'payment_type', 'payment_installments', 'payment_value',\n",
       "       'product_category_name', 'product_name_lenght',\n",
       "       'product_description_lenght', 'product_photos_qty', 'product_weight_g',\n",
       "       'product_length_cm', 'product_height_cm', 'product_width_cm',\n",
       "       'seller_zip_code_prefix', 'seller_city', 'seller_state',\n",
       "       'product_category_name_english'],\n",
       "      dtype='object')"
      ]
     },
     "execution_count": 5,
     "metadata": {},
     "output_type": "execute_result"
    }
   ],
   "source": [
    "df.columns"
   ]
  },
  {
   "cell_type": "markdown",
   "metadata": {},
   "source": [
    "## Connect to Database"
   ]
  },
  {
   "cell_type": "code",
   "execution_count": 6,
   "metadata": {},
   "outputs": [],
   "source": [
    "%sql sqlite:///brazilianData.db"
   ]
  },
  {
   "cell_type": "code",
   "execution_count": 7,
   "metadata": {},
   "outputs": [],
   "source": [
    "from sqlalchemy import create_engine\n",
    "\n",
    "engine = create_engine(\"sqlite:///brazilianData.db\")"
   ]
  },
  {
   "cell_type": "code",
   "execution_count": 8,
   "metadata": {},
   "outputs": [
    {
     "data": {
      "text/plain": [
       "115609"
      ]
     },
     "execution_count": 8,
     "metadata": {},
     "output_type": "execute_result"
    }
   ],
   "source": [
    "df.to_sql('BRAZILIANORDERS', con=engine, if_exists='replace', index=False)"
   ]
  },
  {
   "cell_type": "markdown",
   "metadata": {},
   "source": [
    "## Queries and Analysis"
   ]
  },
  {
   "cell_type": "markdown",
   "metadata": {},
   "source": [
    "## Revenue"
   ]
  },
  {
   "cell_type": "markdown",
   "metadata": {},
   "source": [
    "### What is the total revenue?"
   ]
  },
  {
   "cell_type": "code",
   "execution_count": 9,
   "metadata": {},
   "outputs": [
    {
     "name": "stdout",
     "output_type": "stream",
     "text": [
      " * sqlite:///brazilianData.db\n",
      "Done.\n"
     ]
    },
    {
     "data": {
      "text/html": [
       "<table>\n",
       "    <thead>\n",
       "        <tr>\n",
       "            <th>TOTAL_REVENUE</th>\n",
       "        </tr>\n",
       "    </thead>\n",
       "    <tbody>\n",
       "        <tr>\n",
       "            <td>19929532.499998864</td>\n",
       "        </tr>\n",
       "    </tbody>\n",
       "</table>"
      ],
      "text/plain": [
       "[(19929532.499998864,)]"
      ]
     },
     "execution_count": 9,
     "metadata": {},
     "output_type": "execute_result"
    }
   ],
   "source": [
    "%%sql\n",
    "SELECT SUM(payment_value) AS TOTAL_REVENUE FROM BRAZILIANORDERS;"
   ]
  },
  {
   "cell_type": "markdown",
   "metadata": {},
   "source": [
    "### What is the total revenue of each year?"
   ]
  },
  {
   "cell_type": "code",
   "execution_count": 10,
   "metadata": {},
   "outputs": [
    {
     "name": "stdout",
     "output_type": "stream",
     "text": [
      " * sqlite:///brazilianData.db\n",
      "Done.\n"
     ]
    },
    {
     "data": {
      "text/html": [
       "<table>\n",
       "    <thead>\n",
       "        <tr>\n",
       "            <th>ORDER_YEAR</th>\n",
       "            <th>TOTAL_REVENUE</th>\n",
       "        </tr>\n",
       "    </thead>\n",
       "    <tbody>\n",
       "        <tr>\n",
       "            <td>2016</td>\n",
       "            <td>73142.95999999999</td>\n",
       "        </tr>\n",
       "        <tr>\n",
       "            <td>2017</td>\n",
       "            <td>8947145.909999454</td>\n",
       "        </tr>\n",
       "        <tr>\n",
       "            <td>2018</td>\n",
       "            <td>10909243.62999968</td>\n",
       "        </tr>\n",
       "    </tbody>\n",
       "</table>"
      ],
      "text/plain": [
       "[(2016, 73142.95999999999),\n",
       " (2017, 8947145.909999454),\n",
       " (2018, 10909243.62999968)]"
      ]
     },
     "execution_count": 10,
     "metadata": {},
     "output_type": "execute_result"
    }
   ],
   "source": [
    "%%sql\n",
    "SELECT CAST(SUBSTRING(order_purchase_timestamp, 0, 5) AS INT) AS ORDER_YEAR, SUM(payment_value) AS TOTAL_REVENUE \n",
    "FROM BRAZILIANORDERS \n",
    "GROUP BY ORDER_YEAR;"
   ]
  },
  {
   "cell_type": "markdown",
   "metadata": {},
   "source": [
    "### Which month generated the highest revenue?"
   ]
  },
  {
   "cell_type": "code",
   "execution_count": 11,
   "metadata": {},
   "outputs": [
    {
     "name": "stdout",
     "output_type": "stream",
     "text": [
      " * sqlite:///brazilianData.db\n",
      "Done.\n"
     ]
    },
    {
     "data": {
      "text/html": [
       "<table>\n",
       "    <thead>\n",
       "        <tr>\n",
       "            <th>MAX_REVENUE</th>\n",
       "            <th>ORDER_MONTH</th>\n",
       "        </tr>\n",
       "    </thead>\n",
       "    <tbody>\n",
       "        <tr>\n",
       "            <td>2200268.5499999905</td>\n",
       "            <td>5</td>\n",
       "        </tr>\n",
       "    </tbody>\n",
       "</table>"
      ],
      "text/plain": [
       "[(2200268.5499999905, 5)]"
      ]
     },
     "execution_count": 11,
     "metadata": {},
     "output_type": "execute_result"
    }
   ],
   "source": [
    "%%sql\n",
    "SELECT MAX(TOTAL_REVENUE) AS MAX_REVENUE, ORDER_MONTH\n",
    "FROM(\n",
    "  SELECT CAST(SUBSTRING(order_purchase_timestamp, 6, 9) AS INT) AS ORDER_MONTH, SUM(payment_value) AS TOTAL_REVENUE \n",
    "  FROM BRAZILIANORDERS \n",
    "  GROUP BY ORDER_MONTH\n",
    ") SUBQUERY"
   ]
  },
  {
   "cell_type": "markdown",
   "metadata": {},
   "source": [
    "### What is the percentage of orders canceled after placing the payment?"
   ]
  },
  {
   "cell_type": "code",
   "execution_count": 12,
   "metadata": {},
   "outputs": [
    {
     "name": "stdout",
     "output_type": "stream",
     "text": [
      " * sqlite:///brazilianData.db\n",
      "Done.\n"
     ]
    },
    {
     "data": {
      "text/html": [
       "<table>\n",
       "    <thead>\n",
       "        <tr>\n",
       "            <th>CANCELATION_RATE (%)</th>\n",
       "        </tr>\n",
       "    </thead>\n",
       "    <tbody>\n",
       "        <tr>\n",
       "            <td>0.46</td>\n",
       "        </tr>\n",
       "    </tbody>\n",
       "</table>"
      ],
      "text/plain": [
       "[(0.46,)]"
      ]
     },
     "execution_count": 12,
     "metadata": {},
     "output_type": "execute_result"
    }
   ],
   "source": [
    "%%sql\n",
    "SELECT ROUND((CANCELED_ORDER * 100.0 / COUNT(order_status)), 2) AS \"CANCELATION_RATE (%)\"\n",
    "FROM(\n",
    "  SELECT COUNT(order_status) AS CANCELED_ORDER FROM BRAZILIANORDERS WHERE order_status = 'canceled'\n",
    ") SUBQUERY, BRAZILIANORDERS "
   ]
  },
  {
   "cell_type": "markdown",
   "metadata": {},
   "source": [
    "### What is the total revenue from recurring customers?"
   ]
  },
  {
   "cell_type": "code",
   "execution_count": 13,
   "metadata": {},
   "outputs": [
    {
     "name": "stdout",
     "output_type": "stream",
     "text": [
      " * sqlite:///brazilianData.db\n",
      "Done.\n"
     ]
    },
    {
     "data": {
      "text/html": [
       "<table>\n",
       "    <thead>\n",
       "        <tr>\n",
       "            <th>SUM(TOTAL_REVENUE)</th>\n",
       "        </tr>\n",
       "    </thead>\n",
       "    <tbody>\n",
       "        <tr>\n",
       "            <td>1354706.5599999984</td>\n",
       "        </tr>\n",
       "    </tbody>\n",
       "</table>"
      ],
      "text/plain": [
       "[(1354706.5599999984,)]"
      ]
     },
     "execution_count": 13,
     "metadata": {},
     "output_type": "execute_result"
    }
   ],
   "source": [
    "%%sql\n",
    "SELECT SUM(TOTAL_REVENUE)\n",
    "FROM (\n",
    "    SELECT customer_unique_id, COUNT(DISTINCT order_id) AS NUM_ORDERS, SUM(payment_value) AS TOTAL_REVENUE\n",
    "    FROM BRAZILIANORDERS\n",
    "    WHERE order_status <> 'canceled'\n",
    "    GROUP BY customer_unique_id\n",
    "    HAVING num_orders > 1\n",
    ") SUBQUERY"
   ]
  },
  {
   "cell_type": "markdown",
   "metadata": {},
   "source": [
    "## Orders"
   ]
  },
  {
   "cell_type": "markdown",
   "metadata": {},
   "source": [
    "### What is the total number of orders?"
   ]
  },
  {
   "cell_type": "code",
   "execution_count": 14,
   "metadata": {},
   "outputs": [
    {
     "name": "stdout",
     "output_type": "stream",
     "text": [
      " * sqlite:///brazilianData.db\n",
      "Done.\n"
     ]
    },
    {
     "data": {
      "text/html": [
       "<table>\n",
       "    <thead>\n",
       "        <tr>\n",
       "            <th>NUM_ORDERS</th>\n",
       "        </tr>\n",
       "    </thead>\n",
       "    <tbody>\n",
       "        <tr>\n",
       "            <td>96516</td>\n",
       "        </tr>\n",
       "    </tbody>\n",
       "</table>"
      ],
      "text/plain": [
       "[(96516,)]"
      ]
     },
     "execution_count": 14,
     "metadata": {},
     "output_type": "execute_result"
    }
   ],
   "source": [
    "%%sql\n",
    "SELECT COUNT(DISTINCT order_id) AS NUM_ORDERS FROM BRAZILIANORDERS;"
   ]
  },
  {
   "cell_type": "markdown",
   "metadata": {},
   "source": [
    "### What is the largest number of items purchased?"
   ]
  },
  {
   "cell_type": "code",
   "execution_count": 15,
   "metadata": {},
   "outputs": [
    {
     "name": "stdout",
     "output_type": "stream",
     "text": [
      " * sqlite:///brazilianData.db\n",
      "Done.\n"
     ]
    },
    {
     "data": {
      "text/html": [
       "<table>\n",
       "    <thead>\n",
       "        <tr>\n",
       "            <th>MAX_NUM_ITEMS</th>\n",
       "        </tr>\n",
       "    </thead>\n",
       "    <tbody>\n",
       "        <tr>\n",
       "            <td>21</td>\n",
       "        </tr>\n",
       "    </tbody>\n",
       "</table>"
      ],
      "text/plain": [
       "[(21,)]"
      ]
     },
     "execution_count": 15,
     "metadata": {},
     "output_type": "execute_result"
    }
   ],
   "source": [
    "%%sql\n",
    "SELECT MAX(NUM_ITEMS) AS MAX_NUM_ITEMS\n",
    "FROM(\n",
    "    SELECT MAX(order_item_id) AS NUM_ITEMS FROM BRAZILIANORDERS GROUP BY order_id\n",
    ") SUBQUERY"
   ]
  },
  {
   "cell_type": "markdown",
   "metadata": {},
   "source": [
    "### How many products are typically ordered per month?"
   ]
  },
  {
   "cell_type": "code",
   "execution_count": 16,
   "metadata": {},
   "outputs": [
    {
     "name": "stdout",
     "output_type": "stream",
     "text": [
      " * sqlite:///brazilianData.db\n",
      "Done.\n"
     ]
    },
    {
     "data": {
      "text/html": [
       "<table>\n",
       "    <thead>\n",
       "        <tr>\n",
       "            <th>ORDER_MONTH</th>\n",
       "            <th>MONTHLY_PRODUCT_NUM</th>\n",
       "        </tr>\n",
       "    </thead>\n",
       "    <tbody>\n",
       "        <tr>\n",
       "            <td>1</td>\n",
       "            <td>9302</td>\n",
       "        </tr>\n",
       "        <tr>\n",
       "            <td>2</td>\n",
       "            <td>9816</td>\n",
       "        </tr>\n",
       "        <tr>\n",
       "            <td>3</td>\n",
       "            <td>11489</td>\n",
       "        </tr>\n",
       "        <tr>\n",
       "            <td>4</td>\n",
       "            <td>10883</td>\n",
       "        </tr>\n",
       "        <tr>\n",
       "            <td>5</td>\n",
       "            <td>12427</td>\n",
       "        </tr>\n",
       "        <tr>\n",
       "            <td>6</td>\n",
       "            <td>11059</td>\n",
       "        </tr>\n",
       "        <tr>\n",
       "            <td>7</td>\n",
       "            <td>12015</td>\n",
       "        </tr>\n",
       "        <tr>\n",
       "            <td>8</td>\n",
       "            <td>12479</td>\n",
       "        </tr>\n",
       "        <tr>\n",
       "            <td>9</td>\n",
       "            <td>5018</td>\n",
       "        </tr>\n",
       "        <tr>\n",
       "            <td>10</td>\n",
       "            <td>5868</td>\n",
       "        </tr>\n",
       "        <tr>\n",
       "            <td>11</td>\n",
       "            <td>8881</td>\n",
       "        </tr>\n",
       "        <tr>\n",
       "            <td>12</td>\n",
       "            <td>6372</td>\n",
       "        </tr>\n",
       "    </tbody>\n",
       "</table>"
      ],
      "text/plain": [
       "[(1, 9302),\n",
       " (2, 9816),\n",
       " (3, 11489),\n",
       " (4, 10883),\n",
       " (5, 12427),\n",
       " (6, 11059),\n",
       " (7, 12015),\n",
       " (8, 12479),\n",
       " (9, 5018),\n",
       " (10, 5868),\n",
       " (11, 8881),\n",
       " (12, 6372)]"
      ]
     },
     "execution_count": 16,
     "metadata": {},
     "output_type": "execute_result"
    }
   ],
   "source": [
    "%%sql\n",
    "SELECT CAST(SUBSTRING(order_purchase_timestamp, 6, 9) AS INT) AS ORDER_MONTH, COUNT(*) AS MONTHLY_PRODUCT_NUM \n",
    "FROM BRAZILIANORDERS \n",
    "GROUP BY ORDER_MONTH;"
   ]
  },
  {
   "cell_type": "markdown",
   "metadata": {},
   "source": [
    "### What times of the year have the highest and lowest order frequency?"
   ]
  },
  {
   "cell_type": "code",
   "execution_count": 17,
   "metadata": {},
   "outputs": [
    {
     "name": "stdout",
     "output_type": "stream",
     "text": [
      " * sqlite:///brazilianData.db\n",
      "Done.\n"
     ]
    },
    {
     "data": {
      "text/html": [
       "<table>\n",
       "    <thead>\n",
       "        <tr>\n",
       "            <th>MIN_FREQ</th>\n",
       "            <th>MAX_FREQ</th>\n",
       "        </tr>\n",
       "    </thead>\n",
       "    <tbody>\n",
       "        <tr>\n",
       "            <td>1</td>\n",
       "            <td>1148</td>\n",
       "        </tr>\n",
       "    </tbody>\n",
       "</table>"
      ],
      "text/plain": [
       "[(1, 1148)]"
      ]
     },
     "execution_count": 17,
     "metadata": {},
     "output_type": "execute_result"
    }
   ],
   "source": [
    "%%sql\n",
    "SELECT MIN(ORDERDS) AS MIN_FREQ, MAX(ORDERDS) AS MAX_FREQ\n",
    "FROM(\n",
    "    SELECT DATE(order_purchase_timestamp) AS ORDER_DATE, COUNT(DISTINCT order_id) AS ORDERDS \n",
    "    FROM BRAZILIANORDERS \n",
    "    GROUP BY ORDER_DATE\n",
    ") SUQUERY"
   ]
  },
  {
   "cell_type": "markdown",
   "metadata": {},
   "source": [
    "### What is the average number of orders per unique customer?"
   ]
  },
  {
   "cell_type": "code",
   "execution_count": 18,
   "metadata": {},
   "outputs": [
    {
     "name": "stdout",
     "output_type": "stream",
     "text": [
      " * sqlite:///brazilianData.db\n",
      "Done.\n"
     ]
    },
    {
     "data": {
      "text/html": [
       "<table>\n",
       "    <thead>\n",
       "        <tr>\n",
       "            <th>AVG(NUM_ORDERS)</th>\n",
       "        </tr>\n",
       "    </thead>\n",
       "    <tbody>\n",
       "        <tr>\n",
       "            <td>1.0332709637180892</td>\n",
       "        </tr>\n",
       "    </tbody>\n",
       "</table>"
      ],
      "text/plain": [
       "[(1.0332709637180892,)]"
      ]
     },
     "execution_count": 18,
     "metadata": {},
     "output_type": "execute_result"
    }
   ],
   "source": [
    "%%sql\n",
    "SELECT AVG(NUM_ORDERS)\n",
    "FROM (\n",
    "    SELECT customer_unique_id, COUNT(DISTINCT order_id) AS NUM_ORDERS\n",
    "    FROM BRAZILIANORDERS\n",
    "    WHERE order_status <> 'canceled'\n",
    "    GROUP BY customer_unique_id\n",
    ") SUBQUERY"
   ]
  },
  {
   "cell_type": "markdown",
   "metadata": {},
   "source": [
    "### What percentage of orders have been delivered on or before the estimated delivery date?"
   ]
  },
  {
   "cell_type": "code",
   "execution_count": 19,
   "metadata": {},
   "outputs": [
    {
     "name": "stdout",
     "output_type": "stream",
     "text": [
      " * sqlite:///brazilianData.db\n",
      "Done.\n"
     ]
    },
    {
     "data": {
      "text/html": [
       "<table>\n",
       "    <thead>\n",
       "        <tr>\n",
       "            <th>DELIVERY_ONTIME_PERCENTAGE</th>\n",
       "        </tr>\n",
       "    </thead>\n",
       "    <tbody>\n",
       "        <tr>\n",
       "            <td>108.27</td>\n",
       "        </tr>\n",
       "    </tbody>\n",
       "</table>"
      ],
      "text/plain": [
       "[(108.27,)]"
      ]
     },
     "execution_count": 19,
     "metadata": {},
     "output_type": "execute_result"
    }
   ],
   "source": [
    "%%sql\n",
    "SELECT ROUND((ONTIME * 100.0 / COUNT(DISTINCT order_id)), 2) AS DELIVERY_ONTIME_PERCENTAGE\n",
    "FROM(\n",
    "    SELECT COUNT(*) AS ONTIME \n",
    "    FROM BRAZILIANORDERS\n",
    "    WHERE order_delivered_customer_date <= order_estimated_delivery_date\n",
    ") SUBQUERY, BRAZILIANORDERS"
   ]
  },
  {
   "cell_type": "markdown",
   "metadata": {},
   "source": [
    "### What is the average price and shipping cost across all orders?"
   ]
  },
  {
   "cell_type": "code",
   "execution_count": 20,
   "metadata": {},
   "outputs": [
    {
     "name": "stdout",
     "output_type": "stream",
     "text": [
      " * sqlite:///brazilianData.db\n",
      "Done.\n"
     ]
    },
    {
     "data": {
      "text/html": [
       "<table>\n",
       "    <thead>\n",
       "        <tr>\n",
       "            <th>AVG_PRICE</th>\n",
       "            <th>AVG_FREIGHT</th>\n",
       "        </tr>\n",
       "    </thead>\n",
       "    <tbody>\n",
       "        <tr>\n",
       "            <td>120.61984957930497</td>\n",
       "            <td>8.72</td>\n",
       "        </tr>\n",
       "    </tbody>\n",
       "</table>"
      ],
      "text/plain": [
       "[(120.61984957930497, 8.72)]"
      ]
     },
     "execution_count": 20,
     "metadata": {},
     "output_type": "execute_result"
    }
   ],
   "source": [
    "%%sql\n",
    "SELECT AVG(price) AS AVG_PRICE, (freight_value) AS AVG_FREIGHT FROM BRAZILIANORDERS;"
   ]
  },
  {
   "cell_type": "markdown",
   "metadata": {},
   "source": [
    "### What is the percentage of orders where the estimated delivery date was exceeded by more than 1 day?"
   ]
  },
  {
   "cell_type": "code",
   "execution_count": 21,
   "metadata": {},
   "outputs": [
    {
     "name": "stdout",
     "output_type": "stream",
     "text": [
      " * sqlite:///brazilianData.db\n",
      "Done.\n"
     ]
    },
    {
     "data": {
      "text/html": [
       "<table>\n",
       "    <thead>\n",
       "        <tr>\n",
       "            <th>EXCEEDED_DELIVERY_DATE_NUMS</th>\n",
       "        </tr>\n",
       "    </thead>\n",
       "    <tbody>\n",
       "        <tr>\n",
       "            <td>7.51%</td>\n",
       "        </tr>\n",
       "    </tbody>\n",
       "</table>"
      ],
      "text/plain": [
       "[('7.51%',)]"
      ]
     },
     "execution_count": 21,
     "metadata": {},
     "output_type": "execute_result"
    }
   ],
   "source": [
    "%%sql\n",
    "SELECT ROUND(COUNT(\n",
    "        CASE WHEN \n",
    "        julianday(order_delivered_customer_date) - julianday(order_estimated_delivery_date) > 1 \n",
    "        THEN 1 END\n",
    "    ) * 100.0 / COUNT(DISTINCT order_id), 2) || '%' AS EXCEEDED_DELIVERY_DATE_NUMS\n",
    "FROM BrazilianOrders;"
   ]
  },
  {
   "cell_type": "markdown",
   "metadata": {},
   "source": [
    "### What is the average, min, max houly time of the order approved time?"
   ]
  },
  {
   "cell_type": "code",
   "execution_count": 22,
   "metadata": {},
   "outputs": [
    {
     "name": "stdout",
     "output_type": "stream",
     "text": [
      " * sqlite:///brazilianData.db\n",
      "Done.\n"
     ]
    },
    {
     "data": {
      "text/html": [
       "<table>\n",
       "    <thead>\n",
       "        <tr>\n",
       "            <th>AVG_APPROVAL_TIME_HOURS</th>\n",
       "            <th>MIN_APPROVAL_TIME_HOURS</th>\n",
       "            <th>MAX_APPROVAL_TIME_HOURS</th>\n",
       "        </tr>\n",
       "    </thead>\n",
       "    <tbody>\n",
       "        <tr>\n",
       "            <td>10.503209289136962</td>\n",
       "            <td>0.0</td>\n",
       "            <td>1450.8663888888889</td>\n",
       "        </tr>\n",
       "    </tbody>\n",
       "</table>"
      ],
      "text/plain": [
       "[(10.503209289136962, 0.0, 1450.8663888888889)]"
      ]
     },
     "execution_count": 22,
     "metadata": {},
     "output_type": "execute_result"
    }
   ],
   "source": [
    "%%sql\n",
    "SELECT AVG((strftime('%s', order_approved_at) - strftime('%s', order_purchase_timestamp))/3600.0) AS AVG_APPROVAL_TIME_HOURS,\n",
    "    MIN((strftime('%s', order_approved_at) - strftime('%s', order_purchase_timestamp))/3600.0) AS MIN_APPROVAL_TIME_HOURS,\n",
    "    MAX((strftime('%s', order_approved_at) - strftime('%s', order_purchase_timestamp))/3600.0) AS MAX_APPROVAL_TIME_HOURS\n",
    "FROM BrazilianOrders;"
   ]
  },
  {
   "cell_type": "markdown",
   "metadata": {},
   "source": [
    "## Reviews"
   ]
  },
  {
   "cell_type": "markdown",
   "metadata": {},
   "source": [
    "### What is the average review score of the products?"
   ]
  },
  {
   "cell_type": "code",
   "execution_count": 23,
   "metadata": {},
   "outputs": [
    {
     "name": "stdout",
     "output_type": "stream",
     "text": [
      " * sqlite:///brazilianData.db\n",
      "Done.\n"
     ]
    },
    {
     "data": {
      "text/html": [
       "<table>\n",
       "    <thead>\n",
       "        <tr>\n",
       "            <th>TOTAL_REVENUE</th>\n",
       "        </tr>\n",
       "    </thead>\n",
       "    <tbody>\n",
       "        <tr>\n",
       "            <td>4.034409085797819</td>\n",
       "        </tr>\n",
       "    </tbody>\n",
       "</table>"
      ],
      "text/plain": [
       "[(4.034409085797819,)]"
      ]
     },
     "execution_count": 23,
     "metadata": {},
     "output_type": "execute_result"
    }
   ],
   "source": [
    "%%sql\n",
    "SELECT AVG(review_score) AS TOTAL_REVENUE FROM BRAZILIANORDERS;"
   ]
  },
  {
   "cell_type": "markdown",
   "metadata": {},
   "source": [
    "### What percentage of orders where the customer has left a review with a score of 5?"
   ]
  },
  {
   "cell_type": "code",
   "execution_count": 24,
   "metadata": {},
   "outputs": [
    {
     "name": "stdout",
     "output_type": "stream",
     "text": [
      " * sqlite:///brazilianData.db\n",
      "Done.\n"
     ]
    },
    {
     "data": {
      "text/html": [
       "<table>\n",
       "    <thead>\n",
       "        <tr>\n",
       "            <th>REVIEW_SCORE_5_PERCENTAGE</th>\n",
       "        </tr>\n",
       "    </thead>\n",
       "    <tbody>\n",
       "        <tr>\n",
       "            <td>56.55</td>\n",
       "        </tr>\n",
       "    </tbody>\n",
       "</table>"
      ],
      "text/plain": [
       "[(56.55,)]"
      ]
     },
     "execution_count": 24,
     "metadata": {},
     "output_type": "execute_result"
    }
   ],
   "source": [
    "%%sql\n",
    "SELECT ROUND((REVIEW_SCORE_5_NUM * 100.0 / COUNT(review_score)), 2) AS REVIEW_SCORE_5_PERCENTAGE\n",
    "FROM (\n",
    "    SELECT COUNT(review_score) AS REVIEW_SCORE_5_NUM FROM BRAZILIANORDERS WHERE review_score = 5\n",
    ") SUBQUERY, BRAZILIANORDERS"
   ]
  },
  {
   "cell_type": "markdown",
   "metadata": {},
   "source": [
    "### What is the percentage of orders with a review score of 1 or 2?"
   ]
  },
  {
   "cell_type": "code",
   "execution_count": 25,
   "metadata": {},
   "outputs": [
    {
     "name": "stdout",
     "output_type": "stream",
     "text": [
      " * sqlite:///brazilianData.db\n",
      "Done.\n"
     ]
    },
    {
     "data": {
      "text/html": [
       "<table>\n",
       "    <thead>\n",
       "        <tr>\n",
       "            <th>REVIEW_SCORE_1OR2_PERCENTAGE</th>\n",
       "        </tr>\n",
       "    </thead>\n",
       "    <tbody>\n",
       "        <tr>\n",
       "            <td>16.06</td>\n",
       "        </tr>\n",
       "    </tbody>\n",
       "</table>"
      ],
      "text/plain": [
       "[(16.06,)]"
      ]
     },
     "execution_count": 25,
     "metadata": {},
     "output_type": "execute_result"
    }
   ],
   "source": [
    "%%sql\n",
    "SELECT ROUND((REVIEW_SCORE_5_NUM * 100.0 / COUNT(review_score)), 2) AS REVIEW_SCORE_1OR2_PERCENTAGE\n",
    "FROM (\n",
    "    SELECT COUNT(review_score) AS REVIEW_SCORE_5_NUM FROM BRAZILIANORDERS WHERE review_score = 1 OR review_score = 2\n",
    ") SUBQUERY, BRAZILIANORDERS"
   ]
  },
  {
   "cell_type": "markdown",
   "metadata": {},
   "source": [
    "### What percentage of orders where the customer has left a review message?"
   ]
  },
  {
   "cell_type": "code",
   "execution_count": 26,
   "metadata": {},
   "outputs": [
    {
     "name": "stdout",
     "output_type": "stream",
     "text": [
      " * sqlite:///brazilianData.db\n",
      "Done.\n"
     ]
    },
    {
     "data": {
      "text/html": [
       "<table>\n",
       "    <thead>\n",
       "        <tr>\n",
       "            <th>REVIEW_MESSAGE_PERCENTAGE</th>\n",
       "        </tr>\n",
       "    </thead>\n",
       "    <tbody>\n",
       "        <tr>\n",
       "            <td>50.67</td>\n",
       "        </tr>\n",
       "    </tbody>\n",
       "</table>"
      ],
      "text/plain": [
       "[(50.67,)]"
      ]
     },
     "execution_count": 26,
     "metadata": {},
     "output_type": "execute_result"
    }
   ],
   "source": [
    "%%sql\n",
    "SELECT ROUND((REVIEW_MESSAGE_NUM * 100.0 / COUNT(DISTINCT order_id)), 2) AS REVIEW_MESSAGE_PERCENTAGE\n",
    "FROM (\n",
    "    SELECT COUNT(review_comment_message) AS REVIEW_MESSAGE_NUM FROM BRAZILIANORDERS WHERE review_comment_message IS NOT NULL \n",
    ") SUBQUERY, BRAZILIANORDERS"
   ]
  },
  {
   "cell_type": "markdown",
   "metadata": {},
   "source": [
    "### Which product category has the highest average review score?"
   ]
  },
  {
   "cell_type": "code",
   "execution_count": 27,
   "metadata": {},
   "outputs": [
    {
     "name": "stdout",
     "output_type": "stream",
     "text": [
      " * sqlite:///brazilianData.db\n",
      "Done.\n"
     ]
    },
    {
     "data": {
      "text/html": [
       "<table>\n",
       "    <thead>\n",
       "        <tr>\n",
       "            <th>product_category_name_english</th>\n",
       "            <th>HIGHEST_AVG_REVIEW_SCORE</th>\n",
       "        </tr>\n",
       "    </thead>\n",
       "    <tbody>\n",
       "        <tr>\n",
       "            <td>housewares</td>\n",
       "            <td>4.642857142857143</td>\n",
       "        </tr>\n",
       "    </tbody>\n",
       "</table>"
      ],
      "text/plain": [
       "[('housewares', 4.642857142857143)]"
      ]
     },
     "execution_count": 27,
     "metadata": {},
     "output_type": "execute_result"
    }
   ],
   "source": [
    "%%sql\n",
    "SELECT product_category_name_english, MAX(AVG_REVIEW_SCORE) AS HIGHEST_AVG_REVIEW_SCORE\n",
    "FROM (\n",
    "    SELECT AVG(review_score) AS AVG_REVIEW_SCORE FROM BRAZILIANORDERS GROUP BY product_category_name_english\n",
    ") SUBQUERY, BRAZILIANORDERS"
   ]
  },
  {
   "cell_type": "markdown",
   "metadata": {},
   "source": [
    "### What is the maximum, minimum, and average number of reviews per review title?"
   ]
  },
  {
   "cell_type": "code",
   "execution_count": 28,
   "metadata": {},
   "outputs": [],
   "source": [
    "# Run too slow as there are 4477 review titles\n",
    "# %%sql\n",
    "# SELECT review_comment_title, MAX(REVIEW_NUM) AS MAX_REVIEW_NUM, MIN(REVIEW_NUM) AS MIN_REVIEW_NUM, AVG(REVIEW_NUM) AS AVG_REVIEW_NUM\n",
    "# FROM (\n",
    "#     SELECT COUNT(review_comment_message) AS REVIEW_NUM \n",
    "#     FROM BRAZILIANORDERS \n",
    "#     WHERE review_comment_message IS NOT NULL \n",
    "#     GROUP BY review_comment_title\n",
    "# ) SUBQUERY, BRAZILIANORDERS"
   ]
  },
  {
   "cell_type": "markdown",
   "metadata": {},
   "source": [
    "### What is the relationship between review score and shipping time period?"
   ]
  },
  {
   "cell_type": "code",
   "execution_count": 29,
   "metadata": {},
   "outputs": [
    {
     "name": "stdout",
     "output_type": "stream",
     "text": [
      " * sqlite:///brazilianData.db\n",
      "Done.\n"
     ]
    },
    {
     "data": {
      "text/html": [
       "<table>\n",
       "    <thead>\n",
       "        <tr>\n",
       "            <th>review_score</th>\n",
       "            <th>AVG_SHIPPING_DAYS</th>\n",
       "        </tr>\n",
       "    </thead>\n",
       "    <tbody>\n",
       "        <tr>\n",
       "            <td>1</td>\n",
       "            <td>19.600785892669673</td>\n",
       "        </tr>\n",
       "        <tr>\n",
       "            <td>2</td>\n",
       "            <td>15.760503484284103</td>\n",
       "        </tr>\n",
       "        <tr>\n",
       "            <td>3</td>\n",
       "            <td>14.031146403902087</td>\n",
       "        </tr>\n",
       "        <tr>\n",
       "            <td>4</td>\n",
       "            <td>12.241928098239958</td>\n",
       "        </tr>\n",
       "        <tr>\n",
       "            <td>5</td>\n",
       "            <td>10.667584961278305</td>\n",
       "        </tr>\n",
       "    </tbody>\n",
       "</table>"
      ],
      "text/plain": [
       "[(1, 19.600785892669673),\n",
       " (2, 15.760503484284103),\n",
       " (3, 14.031146403902087),\n",
       " (4, 12.241928098239958),\n",
       " (5, 10.667584961278305)]"
      ]
     },
     "execution_count": 29,
     "metadata": {},
     "output_type": "execute_result"
    }
   ],
   "source": [
    "%%sql\n",
    "SELECT review_score, \n",
    "    AVG(julianday(order_delivered_customer_date) - julianday(order_purchase_timestamp)) AS AVG_SHIPPING_DAYS\n",
    "FROM BrazilianOrders\n",
    "GROUP BY review_score;"
   ]
  },
  {
   "cell_type": "markdown",
   "metadata": {},
   "source": [
    "### What is the average number of days between order delivery and customer review submission?"
   ]
  },
  {
   "cell_type": "code",
   "execution_count": 30,
   "metadata": {},
   "outputs": [
    {
     "name": "stdout",
     "output_type": "stream",
     "text": [
      " * sqlite:///brazilianData.db\n",
      "Done.\n"
     ]
    },
    {
     "data": {
      "text/html": [
       "<table>\n",
       "    <thead>\n",
       "        <tr>\n",
       "            <th>AVG_DELIVERY_REVIEW_DAY</th>\n",
       "        </tr>\n",
       "    </thead>\n",
       "    <tbody>\n",
       "        <tr>\n",
       "            <td>2.961978944404869</td>\n",
       "        </tr>\n",
       "    </tbody>\n",
       "</table>"
      ],
      "text/plain": [
       "[(2.961978944404869,)]"
      ]
     },
     "execution_count": 30,
     "metadata": {},
     "output_type": "execute_result"
    }
   ],
   "source": [
    "%%sql\n",
    "SELECT AVG(julianday(review_answer_timestamp) - julianday(order_delivered_customer_date)) AS AVG_DELIVERY_REVIEW_DAY\n",
    "FROM BrazilianOrders;"
   ]
  },
  {
   "cell_type": "markdown",
   "metadata": {},
   "source": [
    "### What is the average time between order and review for each product category?"
   ]
  },
  {
   "cell_type": "code",
   "execution_count": 31,
   "metadata": {},
   "outputs": [
    {
     "name": "stdout",
     "output_type": "stream",
     "text": [
      " * sqlite:///brazilianData.db\n",
      "Done.\n"
     ]
    },
    {
     "data": {
      "text/html": [
       "<table>\n",
       "    <thead>\n",
       "        <tr>\n",
       "            <th>product_category_name_english</th>\n",
       "            <th>AVG_ORDER_REVIEW_DAYS</th>\n",
       "        </tr>\n",
       "    </thead>\n",
       "    <tbody>\n",
       "        <tr>\n",
       "            <td>office_furniture</td>\n",
       "            <td>24.11580141160865</td>\n",
       "        </tr>\n",
       "        <tr>\n",
       "            <td>home_comfort_2</td>\n",
       "            <td>23.87078910379205</td>\n",
       "        </tr>\n",
       "        <tr>\n",
       "            <td>fashion_sport</td>\n",
       "            <td>23.646099910365358</td>\n",
       "        </tr>\n",
       "        <tr>\n",
       "            <td>fashion_shoes</td>\n",
       "            <td>18.41353704552968</td>\n",
       "        </tr>\n",
       "        <tr>\n",
       "            <td>furniture_bedroom</td>\n",
       "            <td>18.395979295266674</td>\n",
       "        </tr>\n",
       "        <tr>\n",
       "            <td>fashio_female_clothing</td>\n",
       "            <td>17.95432986114174</td>\n",
       "        </tr>\n",
       "        <tr>\n",
       "            <td>christmas_supplies</td>\n",
       "            <td>17.88392009196262</td>\n",
       "        </tr>\n",
       "        <tr>\n",
       "            <td>garden_tools</td>\n",
       "            <td>17.26971680337617</td>\n",
       "        </tr>\n",
       "        <tr>\n",
       "            <td>market_place</td>\n",
       "            <td>17.244602693618756</td>\n",
       "        </tr>\n",
       "        <tr>\n",
       "            <td>consoles_games</td>\n",
       "            <td>17.06613661331298</td>\n",
       "        </tr>\n",
       "        <tr>\n",
       "            <td>security_and_services</td>\n",
       "            <td>16.910931712947786</td>\n",
       "        </tr>\n",
       "        <tr>\n",
       "            <td>furniture_living_room</td>\n",
       "            <td>16.795774398683804</td>\n",
       "        </tr>\n",
       "        <tr>\n",
       "            <td>computers</td>\n",
       "            <td>16.735540354596495</td>\n",
       "        </tr>\n",
       "        <tr>\n",
       "            <td>fashion_male_clothing</td>\n",
       "            <td>16.674975163975937</td>\n",
       "        </tr>\n",
       "        <tr>\n",
       "            <td>home_appliances_2</td>\n",
       "            <td>16.67142248823683</td>\n",
       "        </tr>\n",
       "        <tr>\n",
       "            <td>fashion_underwear_beach</td>\n",
       "            <td>16.516217382178624</td>\n",
       "        </tr>\n",
       "        <tr>\n",
       "            <td>fixed_telephony</td>\n",
       "            <td>16.498428378416897</td>\n",
       "        </tr>\n",
       "        <tr>\n",
       "            <td>computers_accessories</td>\n",
       "            <td>16.46272446277892</td>\n",
       "        </tr>\n",
       "        <tr>\n",
       "            <td>furniture_mattress_and_upholstery</td>\n",
       "            <td>16.306778737593714</td>\n",
       "        </tr>\n",
       "        <tr>\n",
       "            <td>home_confort</td>\n",
       "            <td>16.289037552515452</td>\n",
       "        </tr>\n",
       "    </tbody>\n",
       "</table>"
      ],
      "text/plain": [
       "[('office_furniture', 24.11580141160865),\n",
       " ('home_comfort_2', 23.87078910379205),\n",
       " ('fashion_sport', 23.646099910365358),\n",
       " ('fashion_shoes', 18.41353704552968),\n",
       " ('furniture_bedroom', 18.395979295266674),\n",
       " ('fashio_female_clothing', 17.95432986114174),\n",
       " ('christmas_supplies', 17.88392009196262),\n",
       " ('garden_tools', 17.26971680337617),\n",
       " ('market_place', 17.244602693618756),\n",
       " ('consoles_games', 17.06613661331298),\n",
       " ('security_and_services', 16.910931712947786),\n",
       " ('furniture_living_room', 16.795774398683804),\n",
       " ('computers', 16.735540354596495),\n",
       " ('fashion_male_clothing', 16.674975163975937),\n",
       " ('home_appliances_2', 16.67142248823683),\n",
       " ('fashion_underwear_beach', 16.516217382178624),\n",
       " ('fixed_telephony', 16.498428378416897),\n",
       " ('computers_accessories', 16.46272446277892),\n",
       " ('furniture_mattress_and_upholstery', 16.306778737593714),\n",
       " ('home_confort', 16.289037552515452)]"
      ]
     },
     "execution_count": 31,
     "metadata": {},
     "output_type": "execute_result"
    }
   ],
   "source": [
    "%%sql\n",
    "SELECT product_category_name_english,\n",
    "    AVG(julianday(review_answer_timestamp) - julianday(order_purchase_timestamp)) AS AVG_ORDER_REVIEW_DAYS\n",
    "FROM BrazilianOrders\n",
    "GROUP BY product_category_name_english\n",
    "ORDER BY AVG_ORDER_REVIEW_DAYS DESC\n",
    "LIMIT 20;"
   ]
  },
  {
   "cell_type": "markdown",
   "metadata": {},
   "source": [
    "## Products"
   ]
  },
  {
   "cell_type": "markdown",
   "metadata": {},
   "source": [
    "### What is the total number of items sold?"
   ]
  },
  {
   "cell_type": "code",
   "execution_count": 32,
   "metadata": {},
   "outputs": [
    {
     "name": "stdout",
     "output_type": "stream",
     "text": [
      " * sqlite:///brazilianData.db\n",
      "Done.\n"
     ]
    },
    {
     "data": {
      "text/html": [
       "<table>\n",
       "    <thead>\n",
       "        <tr>\n",
       "            <th>NUM_ITEMS</th>\n",
       "        </tr>\n",
       "    </thead>\n",
       "    <tbody>\n",
       "        <tr>\n",
       "            <td>110130</td>\n",
       "        </tr>\n",
       "    </tbody>\n",
       "</table>"
      ],
      "text/plain": [
       "[(110130,)]"
      ]
     },
     "execution_count": 32,
     "metadata": {},
     "output_type": "execute_result"
    }
   ],
   "source": [
    "%%sql\n",
    "SELECT SUM(ORDER_ITEMS) AS NUM_ITEMS\n",
    "FROM(\n",
    "    SELECT MAX(order_item_id) AS ORDER_ITEMS FROM BRAZILIANORDERS GROUP BY order_id\n",
    ") SUBQUERY"
   ]
  },
  {
   "cell_type": "markdown",
   "metadata": {},
   "source": [
    "### What is the most popular product category?"
   ]
  },
  {
   "cell_type": "code",
   "execution_count": 33,
   "metadata": {},
   "outputs": [
    {
     "name": "stdout",
     "output_type": "stream",
     "text": [
      " * sqlite:///brazilianData.db\n",
      "Done.\n"
     ]
    },
    {
     "data": {
      "text/html": [
       "<table>\n",
       "    <thead>\n",
       "        <tr>\n",
       "            <th>product_category_name_english</th>\n",
       "            <th>ORDER_NUMS</th>\n",
       "        </tr>\n",
       "    </thead>\n",
       "    <tbody>\n",
       "        <tr>\n",
       "            <td>bed_bath_table</td>\n",
       "            <td>11847</td>\n",
       "        </tr>\n",
       "    </tbody>\n",
       "</table>"
      ],
      "text/plain": [
       "[('bed_bath_table', 11847)]"
      ]
     },
     "execution_count": 33,
     "metadata": {},
     "output_type": "execute_result"
    }
   ],
   "source": [
    "%%sql\n",
    "SELECT product_category_name_english, COUNT(*) AS ORDER_NUMS\n",
    "FROM BRAZILIANORDERS\n",
    "GROUP BY product_category_name_english\n",
    "ORDER BY ORDER_NUMS DESC\n",
    "LIMIT 1;"
   ]
  },
  {
   "cell_type": "markdown",
   "metadata": {},
   "source": [
    "### What is the average product weight?"
   ]
  },
  {
   "cell_type": "code",
   "execution_count": 34,
   "metadata": {},
   "outputs": [
    {
     "name": "stdout",
     "output_type": "stream",
     "text": [
      " * sqlite:///brazilianData.db\n",
      "Done.\n"
     ]
    },
    {
     "data": {
      "text/html": [
       "<table>\n",
       "    <thead>\n",
       "        <tr>\n",
       "            <th>AVG_PRODUCT_WEIGHT</th>\n",
       "        </tr>\n",
       "    </thead>\n",
       "    <tbody>\n",
       "        <tr>\n",
       "            <td>5713.516158397815</td>\n",
       "        </tr>\n",
       "    </tbody>\n",
       "</table>"
      ],
      "text/plain": [
       "[(5713.516158397815,)]"
      ]
     },
     "execution_count": 34,
     "metadata": {},
     "output_type": "execute_result"
    }
   ],
   "source": [
    "%%sql\n",
    "SELECT AVG(DISTINCT product_weight_g) AS AVG_PRODUCT_WEIGHT FROM BRAZILIANORDERS;"
   ]
  },
  {
   "cell_type": "markdown",
   "metadata": {},
   "source": [
    "### Which product has the highest shipping cost per unit weight?"
   ]
  },
  {
   "cell_type": "code",
   "execution_count": 35,
   "metadata": {},
   "outputs": [
    {
     "name": "stdout",
     "output_type": "stream",
     "text": [
      " * sqlite:///brazilianData.db\n",
      "Done.\n"
     ]
    },
    {
     "data": {
      "text/html": [
       "<table>\n",
       "    <thead>\n",
       "        <tr>\n",
       "            <th>product_id</th>\n",
       "            <th>UNIT_SHIPPING_COST</th>\n",
       "        </tr>\n",
       "    </thead>\n",
       "    <tbody>\n",
       "        <tr>\n",
       "            <td>8aae4df46baf1278422b69edbb50bd35</td>\n",
       "            <td>19.8</td>\n",
       "        </tr>\n",
       "    </tbody>\n",
       "</table>"
      ],
      "text/plain": [
       "[('8aae4df46baf1278422b69edbb50bd35', 19.8)]"
      ]
     },
     "execution_count": 35,
     "metadata": {},
     "output_type": "execute_result"
    }
   ],
   "source": [
    "%%sql\n",
    "SELECT product_id, (freight_value / product_weight_g) AS UNIT_SHIPPING_COST\n",
    "FROM BRAZILIANORDERS\n",
    "ORDER BY UNIT_SHIPPING_COST DESC\n",
    "LIMIT 1;"
   ]
  },
  {
   "cell_type": "markdown",
   "metadata": {},
   "source": [
    "### What is the volumn of each product?"
   ]
  },
  {
   "cell_type": "code",
   "execution_count": 36,
   "metadata": {},
   "outputs": [
    {
     "name": "stdout",
     "output_type": "stream",
     "text": [
      " * sqlite:///brazilianData.db\n",
      "Done.\n"
     ]
    },
    {
     "data": {
      "text/html": [
       "<table>\n",
       "    <thead>\n",
       "        <tr>\n",
       "            <th>product_id</th>\n",
       "            <th>VOLUMN</th>\n",
       "        </tr>\n",
       "    </thead>\n",
       "    <tbody>\n",
       "        <tr>\n",
       "            <td>87285b34884572647811a353c7ac498a</td>\n",
       "            <td>1976.0</td>\n",
       "        </tr>\n",
       "        <tr>\n",
       "            <td>87285b34884572647811a353c7ac498a</td>\n",
       "            <td>1976.0</td>\n",
       "        </tr>\n",
       "        <tr>\n",
       "            <td>87285b34884572647811a353c7ac498a</td>\n",
       "            <td>1976.0</td>\n",
       "        </tr>\n",
       "        <tr>\n",
       "            <td>87285b34884572647811a353c7ac498a</td>\n",
       "            <td>1976.0</td>\n",
       "        </tr>\n",
       "        <tr>\n",
       "            <td>87285b34884572647811a353c7ac498a</td>\n",
       "            <td>1976.0</td>\n",
       "        </tr>\n",
       "        <tr>\n",
       "            <td>87285b34884572647811a353c7ac498a</td>\n",
       "            <td>1976.0</td>\n",
       "        </tr>\n",
       "        <tr>\n",
       "            <td>be03d93320192443b8fa24c0ca6ead98</td>\n",
       "            <td>3328.0</td>\n",
       "        </tr>\n",
       "        <tr>\n",
       "            <td>8415b1dae10d2dcb36beec370c6a90cd</td>\n",
       "            <td>2160.0</td>\n",
       "        </tr>\n",
       "        <tr>\n",
       "            <td>5e18248fc768bdb7fc69fd012068d109</td>\n",
       "            <td>1920.0</td>\n",
       "        </tr>\n",
       "        <tr>\n",
       "            <td>883cea107372a7f07b5830904f74952d</td>\n",
       "            <td>55728.0</td>\n",
       "        </tr>\n",
       "    </tbody>\n",
       "</table>"
      ],
      "text/plain": [
       "[('87285b34884572647811a353c7ac498a', 1976.0),\n",
       " ('87285b34884572647811a353c7ac498a', 1976.0),\n",
       " ('87285b34884572647811a353c7ac498a', 1976.0),\n",
       " ('87285b34884572647811a353c7ac498a', 1976.0),\n",
       " ('87285b34884572647811a353c7ac498a', 1976.0),\n",
       " ('87285b34884572647811a353c7ac498a', 1976.0),\n",
       " ('be03d93320192443b8fa24c0ca6ead98', 3328.0),\n",
       " ('8415b1dae10d2dcb36beec370c6a90cd', 2160.0),\n",
       " ('5e18248fc768bdb7fc69fd012068d109', 1920.0),\n",
       " ('883cea107372a7f07b5830904f74952d', 55728.0)]"
      ]
     },
     "execution_count": 36,
     "metadata": {},
     "output_type": "execute_result"
    }
   ],
   "source": [
    "%%sql\n",
    "SELECT product_id, product_length_cm * product_height_cm * product_width_cm AS VOLUMN FROM BRAZILIANORDERS LIMIT 10;"
   ]
  },
  {
   "cell_type": "markdown",
   "metadata": {},
   "source": [
    "### What is the average shipping time for products?"
   ]
  },
  {
   "cell_type": "code",
   "execution_count": 37,
   "metadata": {},
   "outputs": [
    {
     "name": "stdout",
     "output_type": "stream",
     "text": [
      " * sqlite:///brazilianData.db\n",
      "Done.\n"
     ]
    },
    {
     "data": {
      "text/html": [
       "<table>\n",
       "    <thead>\n",
       "        <tr>\n",
       "            <th>AVG_SHIIPING_DAY</th>\n",
       "        </tr>\n",
       "    </thead>\n",
       "    <tbody>\n",
       "        <tr>\n",
       "            <td>12.007277911007648</td>\n",
       "        </tr>\n",
       "    </tbody>\n",
       "</table>"
      ],
      "text/plain": [
       "[(12.007277911007648,)]"
      ]
     },
     "execution_count": 37,
     "metadata": {},
     "output_type": "execute_result"
    }
   ],
   "source": [
    "%%sql\n",
    "SELECT AVG(julianday(order_delivered_customer_date) - julianday(order_approved_at)) AS AVG_SHIIPING_DAY FROM BRAZILIANORDERS;"
   ]
  },
  {
   "cell_type": "markdown",
   "metadata": {},
   "source": [
    "### What is the total number of products sold and the average order valuein each category?"
   ]
  },
  {
   "cell_type": "code",
   "execution_count": 38,
   "metadata": {},
   "outputs": [
    {
     "name": "stdout",
     "output_type": "stream",
     "text": [
      " * sqlite:///brazilianData.db\n",
      "Done.\n"
     ]
    },
    {
     "data": {
      "text/html": [
       "<table>\n",
       "    <thead>\n",
       "        <tr>\n",
       "            <th>product_category_name_english</th>\n",
       "            <th>SOLD_PRODUCT_NUM</th>\n",
       "            <th>AVG_ORDER_VALUE</th>\n",
       "        </tr>\n",
       "    </thead>\n",
       "    <tbody>\n",
       "        <tr>\n",
       "            <td>agro_industry_and_commerce</td>\n",
       "            <td>252</td>\n",
       "            <td>471.15321428571434</td>\n",
       "        </tr>\n",
       "        <tr>\n",
       "            <td>air_conditioning</td>\n",
       "            <td>297</td>\n",
       "            <td>302.9324242424241</td>\n",
       "        </tr>\n",
       "        <tr>\n",
       "            <td>art</td>\n",
       "            <td>217</td>\n",
       "            <td>141.8957603686636</td>\n",
       "        </tr>\n",
       "        <tr>\n",
       "            <td>arts_and_craftmanship</td>\n",
       "            <td>24</td>\n",
       "            <td>96.92375</td>\n",
       "        </tr>\n",
       "        <tr>\n",
       "            <td>audio</td>\n",
       "            <td>377</td>\n",
       "            <td>159.08090185676403</td>\n",
       "        </tr>\n",
       "        <tr>\n",
       "            <td>auto</td>\n",
       "            <td>4356</td>\n",
       "            <td>184.17234618916484</td>\n",
       "        </tr>\n",
       "        <tr>\n",
       "            <td>baby</td>\n",
       "            <td>3178</td>\n",
       "            <td>168.76956891126426</td>\n",
       "        </tr>\n",
       "        <tr>\n",
       "            <td>bed_bath_table</td>\n",
       "            <td>11847</td>\n",
       "            <td>145.64578965138793</td>\n",
       "        </tr>\n",
       "        <tr>\n",
       "            <td>books_general_interest</td>\n",
       "            <td>561</td>\n",
       "            <td>114.70301247771842</td>\n",
       "        </tr>\n",
       "        <tr>\n",
       "            <td>books_imported</td>\n",
       "            <td>62</td>\n",
       "            <td>108.095</td>\n",
       "        </tr>\n",
       "        <tr>\n",
       "            <td>books_technical</td>\n",
       "            <td>269</td>\n",
       "            <td>92.31795539033453</td>\n",
       "        </tr>\n",
       "        <tr>\n",
       "            <td>cds_dvds_musicals</td>\n",
       "            <td>14</td>\n",
       "            <td>85.67357142857144</td>\n",
       "        </tr>\n",
       "        <tr>\n",
       "            <td>christmas_supplies</td>\n",
       "            <td>148</td>\n",
       "            <td>90.40966216216218</td>\n",
       "        </tr>\n",
       "        <tr>\n",
       "            <td>cine_photo</td>\n",
       "            <td>74</td>\n",
       "            <td>129.10283783783788</td>\n",
       "        </tr>\n",
       "        <tr>\n",
       "            <td>computers</td>\n",
       "            <td>217</td>\n",
       "            <td>1244.4535023041476</td>\n",
       "        </tr>\n",
       "        <tr>\n",
       "            <td>computers_accessories</td>\n",
       "            <td>8105</td>\n",
       "            <td>196.49742874768717</td>\n",
       "        </tr>\n",
       "        <tr>\n",
       "            <td>consoles_games</td>\n",
       "            <td>1180</td>\n",
       "            <td>164.04261864406797</td>\n",
       "        </tr>\n",
       "        <tr>\n",
       "            <td>construction_tools_construction</td>\n",
       "            <td>950</td>\n",
       "            <td>254.07002105263157</td>\n",
       "        </tr>\n",
       "        <tr>\n",
       "            <td>construction_tools_lights</td>\n",
       "            <td>305</td>\n",
       "            <td>228.06049180327844</td>\n",
       "        </tr>\n",
       "        <tr>\n",
       "            <td>construction_tools_safety</td>\n",
       "            <td>198</td>\n",
       "            <td>331.54949494949483</td>\n",
       "        </tr>\n",
       "    </tbody>\n",
       "</table>"
      ],
      "text/plain": [
       "[('agro_industry_and_commerce', 252, 471.15321428571434),\n",
       " ('air_conditioning', 297, 302.9324242424241),\n",
       " ('art', 217, 141.8957603686636),\n",
       " ('arts_and_craftmanship', 24, 96.92375),\n",
       " ('audio', 377, 159.08090185676403),\n",
       " ('auto', 4356, 184.17234618916484),\n",
       " ('baby', 3178, 168.76956891126426),\n",
       " ('bed_bath_table', 11847, 145.64578965138793),\n",
       " ('books_general_interest', 561, 114.70301247771842),\n",
       " ('books_imported', 62, 108.095),\n",
       " ('books_technical', 269, 92.31795539033453),\n",
       " ('cds_dvds_musicals', 14, 85.67357142857144),\n",
       " ('christmas_supplies', 148, 90.40966216216218),\n",
       " ('cine_photo', 74, 129.10283783783788),\n",
       " ('computers', 217, 1244.4535023041476),\n",
       " ('computers_accessories', 8105, 196.49742874768717),\n",
       " ('consoles_games', 1180, 164.04261864406797),\n",
       " ('construction_tools_construction', 950, 254.07002105263157),\n",
       " ('construction_tools_lights', 305, 228.06049180327844),\n",
       " ('construction_tools_safety', 198, 331.54949494949483)]"
      ]
     },
     "execution_count": 38,
     "metadata": {},
     "output_type": "execute_result"
    }
   ],
   "source": [
    "%%sql\n",
    "SELECT product_category_name_english, COUNT(*) AS SOLD_PRODUCT_NUM, AVG(payment_value) AS AVG_ORDER_VALUE\n",
    "FROM BRAZILIANORDERS\n",
    "GROUP BY product_category_name_english\n",
    "LIMIT 20;"
   ]
  },
  {
   "cell_type": "markdown",
   "metadata": {},
   "source": [
    "### What is the minimum and maximum price of products in each category?"
   ]
  },
  {
   "cell_type": "code",
   "execution_count": 39,
   "metadata": {},
   "outputs": [
    {
     "name": "stdout",
     "output_type": "stream",
     "text": [
      " * sqlite:///brazilianData.db\n",
      "Done.\n"
     ]
    },
    {
     "data": {
      "text/html": [
       "<table>\n",
       "    <thead>\n",
       "        <tr>\n",
       "            <th>product_category_name_english</th>\n",
       "            <th>MIN_PRICE</th>\n",
       "            <th>MAX_PRICE</th>\n",
       "        </tr>\n",
       "    </thead>\n",
       "    <tbody>\n",
       "        <tr>\n",
       "            <td>agro_industry_and_commerce</td>\n",
       "            <td>12.99</td>\n",
       "            <td>2990.0</td>\n",
       "        </tr>\n",
       "        <tr>\n",
       "            <td>air_conditioning</td>\n",
       "            <td>10.9</td>\n",
       "            <td>1599.0</td>\n",
       "        </tr>\n",
       "        <tr>\n",
       "            <td>art</td>\n",
       "            <td>3.5</td>\n",
       "            <td>6499.0</td>\n",
       "        </tr>\n",
       "        <tr>\n",
       "            <td>arts_and_craftmanship</td>\n",
       "            <td>9.8</td>\n",
       "            <td>289.49</td>\n",
       "        </tr>\n",
       "        <tr>\n",
       "            <td>audio</td>\n",
       "            <td>14.9</td>\n",
       "            <td>598.99</td>\n",
       "        </tr>\n",
       "        <tr>\n",
       "            <td>auto</td>\n",
       "            <td>3.49</td>\n",
       "            <td>2258.0</td>\n",
       "        </tr>\n",
       "        <tr>\n",
       "            <td>baby</td>\n",
       "            <td>3.54</td>\n",
       "            <td>3899.0</td>\n",
       "        </tr>\n",
       "        <tr>\n",
       "            <td>bed_bath_table</td>\n",
       "            <td>6.99</td>\n",
       "            <td>1999.98</td>\n",
       "        </tr>\n",
       "        <tr>\n",
       "            <td>books_general_interest</td>\n",
       "            <td>6.0</td>\n",
       "            <td>899.9</td>\n",
       "        </tr>\n",
       "        <tr>\n",
       "            <td>books_imported</td>\n",
       "            <td>18.99</td>\n",
       "            <td>749.0</td>\n",
       "        </tr>\n",
       "        <tr>\n",
       "            <td>books_technical</td>\n",
       "            <td>9.95</td>\n",
       "            <td>384.93</td>\n",
       "        </tr>\n",
       "        <tr>\n",
       "            <td>cds_dvds_musicals</td>\n",
       "            <td>45.0</td>\n",
       "            <td>65.0</td>\n",
       "        </tr>\n",
       "        <tr>\n",
       "            <td>christmas_supplies</td>\n",
       "            <td>5.5</td>\n",
       "            <td>295.0</td>\n",
       "        </tr>\n",
       "        <tr>\n",
       "            <td>cine_photo</td>\n",
       "            <td>6.8</td>\n",
       "            <td>873.99</td>\n",
       "        </tr>\n",
       "        <tr>\n",
       "            <td>computers</td>\n",
       "            <td>34.5</td>\n",
       "            <td>4590.0</td>\n",
       "        </tr>\n",
       "        <tr>\n",
       "            <td>computers_accessories</td>\n",
       "            <td>3.9</td>\n",
       "            <td>3699.99</td>\n",
       "        </tr>\n",
       "        <tr>\n",
       "            <td>consoles_games</td>\n",
       "            <td>5.18</td>\n",
       "            <td>4099.99</td>\n",
       "        </tr>\n",
       "        <tr>\n",
       "            <td>construction_tools_construction</td>\n",
       "            <td>0.85</td>\n",
       "            <td>2300.0</td>\n",
       "        </tr>\n",
       "        <tr>\n",
       "            <td>construction_tools_lights</td>\n",
       "            <td>12.51</td>\n",
       "            <td>1290.0</td>\n",
       "        </tr>\n",
       "        <tr>\n",
       "            <td>construction_tools_safety</td>\n",
       "            <td>8.9</td>\n",
       "            <td>3099.9</td>\n",
       "        </tr>\n",
       "    </tbody>\n",
       "</table>"
      ],
      "text/plain": [
       "[('agro_industry_and_commerce', 12.99, 2990.0),\n",
       " ('air_conditioning', 10.9, 1599.0),\n",
       " ('art', 3.5, 6499.0),\n",
       " ('arts_and_craftmanship', 9.8, 289.49),\n",
       " ('audio', 14.9, 598.99),\n",
       " ('auto', 3.49, 2258.0),\n",
       " ('baby', 3.54, 3899.0),\n",
       " ('bed_bath_table', 6.99, 1999.98),\n",
       " ('books_general_interest', 6.0, 899.9),\n",
       " ('books_imported', 18.99, 749.0),\n",
       " ('books_technical', 9.95, 384.93),\n",
       " ('cds_dvds_musicals', 45.0, 65.0),\n",
       " ('christmas_supplies', 5.5, 295.0),\n",
       " ('cine_photo', 6.8, 873.99),\n",
       " ('computers', 34.5, 4590.0),\n",
       " ('computers_accessories', 3.9, 3699.99),\n",
       " ('consoles_games', 5.18, 4099.99),\n",
       " ('construction_tools_construction', 0.85, 2300.0),\n",
       " ('construction_tools_lights', 12.51, 1290.0),\n",
       " ('construction_tools_safety', 8.9, 3099.9)]"
      ]
     },
     "execution_count": 39,
     "metadata": {},
     "output_type": "execute_result"
    }
   ],
   "source": [
    "%%sql\n",
    "SELECT product_category_name_english, MIN(price) AS MIN_PRICE, MAX(price) AS MAX_PRICE\n",
    "FROM BRAZILIANORDERS\n",
    "GROUP BY product_category_name_english\n",
    "LIMIT 20;"
   ]
  },
  {
   "cell_type": "markdown",
   "metadata": {},
   "source": [
    "### What is the average freight-to-price percentage in each category?"
   ]
  },
  {
   "cell_type": "code",
   "execution_count": 40,
   "metadata": {},
   "outputs": [
    {
     "name": "stdout",
     "output_type": "stream",
     "text": [
      " * sqlite:///brazilianData.db\n",
      "Done.\n"
     ]
    },
    {
     "data": {
      "text/html": [
       "<table>\n",
       "    <thead>\n",
       "        <tr>\n",
       "            <th>product_category_name_english</th>\n",
       "            <th>AVG_FREIGHT_PRICE_PERCENTAGE</th>\n",
       "        </tr>\n",
       "    </thead>\n",
       "    <tbody>\n",
       "        <tr>\n",
       "            <td>computers</td>\n",
       "            <td>0.05538043577933473</td>\n",
       "        </tr>\n",
       "        <tr>\n",
       "            <td>security_and_services</td>\n",
       "            <td>0.14754843417535052</td>\n",
       "        </tr>\n",
       "        <tr>\n",
       "            <td>small_appliances_home_oven_and_coffee</td>\n",
       "            <td>0.16247415501201998</td>\n",
       "        </tr>\n",
       "        <tr>\n",
       "            <td>watches_gifts</td>\n",
       "            <td>0.17269630123479252</td>\n",
       "        </tr>\n",
       "        <tr>\n",
       "            <td>home_appliances_2</td>\n",
       "            <td>0.19661885510904914</td>\n",
       "        </tr>\n",
       "        <tr>\n",
       "            <td>fashion_childrens_clothes</td>\n",
       "            <td>0.19875481281771662</td>\n",
       "        </tr>\n",
       "        <tr>\n",
       "            <td>la_cuisine</td>\n",
       "            <td>0.2021346284854282</td>\n",
       "        </tr>\n",
       "        <tr>\n",
       "            <td>home_confort</td>\n",
       "            <td>0.206236625174299</td>\n",
       "        </tr>\n",
       "        <tr>\n",
       "            <td>air_conditioning</td>\n",
       "            <td>0.21065083320325464</td>\n",
       "        </tr>\n",
       "        <tr>\n",
       "            <td>cool_stuff</td>\n",
       "            <td>0.22252246239166884</td>\n",
       "        </tr>\n",
       "        <tr>\n",
       "            <td>construction_tools_safety</td>\n",
       "            <td>0.23554346639633433</td>\n",
       "        </tr>\n",
       "        <tr>\n",
       "            <td>tablets_printing_image</td>\n",
       "            <td>0.23849060946132505</td>\n",
       "        </tr>\n",
       "        <tr>\n",
       "            <td>books_imported</td>\n",
       "            <td>0.24044797352665834</td>\n",
       "        </tr>\n",
       "        <tr>\n",
       "            <td>musical_instruments</td>\n",
       "            <td>0.25040498672176237</td>\n",
       "        </tr>\n",
       "        <tr>\n",
       "            <td>construction_tools_lights</td>\n",
       "            <td>0.25277786325154145</td>\n",
       "        </tr>\n",
       "        <tr>\n",
       "            <td>small_appliances</td>\n",
       "            <td>0.25347072393190373</td>\n",
       "        </tr>\n",
       "        <tr>\n",
       "            <td>luggage_accessories</td>\n",
       "            <td>0.26059052530061866</td>\n",
       "        </tr>\n",
       "        <tr>\n",
       "            <td>home_construction</td>\n",
       "            <td>0.2619262735558291</td>\n",
       "        </tr>\n",
       "        <tr>\n",
       "            <td>fashion_male_clothing</td>\n",
       "            <td>0.26695847459882255</td>\n",
       "        </tr>\n",
       "        <tr>\n",
       "            <td>toys</td>\n",
       "            <td>0.2676309577779915</td>\n",
       "        </tr>\n",
       "    </tbody>\n",
       "</table>"
      ],
      "text/plain": [
       "[('computers', 0.05538043577933473),\n",
       " ('security_and_services', 0.14754843417535052),\n",
       " ('small_appliances_home_oven_and_coffee', 0.16247415501201998),\n",
       " ('watches_gifts', 0.17269630123479252),\n",
       " ('home_appliances_2', 0.19661885510904914),\n",
       " ('fashion_childrens_clothes', 0.19875481281771662),\n",
       " ('la_cuisine', 0.2021346284854282),\n",
       " ('home_confort', 0.206236625174299),\n",
       " ('air_conditioning', 0.21065083320325464),\n",
       " ('cool_stuff', 0.22252246239166884),\n",
       " ('construction_tools_safety', 0.23554346639633433),\n",
       " ('tablets_printing_image', 0.23849060946132505),\n",
       " ('books_imported', 0.24044797352665834),\n",
       " ('musical_instruments', 0.25040498672176237),\n",
       " ('construction_tools_lights', 0.25277786325154145),\n",
       " ('small_appliances', 0.25347072393190373),\n",
       " ('luggage_accessories', 0.26059052530061866),\n",
       " ('home_construction', 0.2619262735558291),\n",
       " ('fashion_male_clothing', 0.26695847459882255),\n",
       " ('toys', 0.2676309577779915)]"
      ]
     },
     "execution_count": 40,
     "metadata": {},
     "output_type": "execute_result"
    }
   ],
   "source": [
    "%%sql\n",
    "SELECT product_category_name_english, AVG(freight_value/price) AS AVG_FREIGHT_PRICE_PERCENTAGE\n",
    "FROM BRAZILIANORDERS\n",
    "GROUP BY product_category_name_english\n",
    "ORDER BY AVG_FREIGHT_PRICE_PERCENTAGE\n",
    "LIMIT 20;"
   ]
  },
  {
   "cell_type": "markdown",
   "metadata": {},
   "source": [
    "### What is the relationship between the order number and the product description, name length and photo num?"
   ]
  },
  {
   "cell_type": "code",
   "execution_count": 41,
   "metadata": {},
   "outputs": [
    {
     "name": "stdout",
     "output_type": "stream",
     "text": [
      " * sqlite:///brazilianData.db\n",
      "Done.\n"
     ]
    },
    {
     "data": {
      "text/html": [
       "<table>\n",
       "    <thead>\n",
       "        <tr>\n",
       "            <th>ORDER_NUM</th>\n",
       "            <th>AVG_DESCRIPTION_L</th>\n",
       "            <th>AVG_NAME_L</th>\n",
       "            <th>AVG_PHOTO_NUM</th>\n",
       "        </tr>\n",
       "    </thead>\n",
       "    <tbody>\n",
       "        <tr>\n",
       "            <td>458</td>\n",
       "            <td>245.0</td>\n",
       "            <td>54.0</td>\n",
       "            <td>1.0</td>\n",
       "        </tr>\n",
       "        <tr>\n",
       "            <td>429</td>\n",
       "            <td>903.0</td>\n",
       "            <td>44.0</td>\n",
       "            <td>6.0</td>\n",
       "        </tr>\n",
       "        <tr>\n",
       "            <td>351</td>\n",
       "            <td>348.0</td>\n",
       "            <td>56.0</td>\n",
       "            <td>2.0</td>\n",
       "        </tr>\n",
       "        <tr>\n",
       "            <td>320</td>\n",
       "            <td>1893.0</td>\n",
       "            <td>59.0</td>\n",
       "            <td>1.0</td>\n",
       "        </tr>\n",
       "        <tr>\n",
       "            <td>310</td>\n",
       "            <td>341.0</td>\n",
       "            <td>59.0</td>\n",
       "            <td>2.0</td>\n",
       "        </tr>\n",
       "        <tr>\n",
       "            <td>303</td>\n",
       "            <td>523.0</td>\n",
       "            <td>33.0</td>\n",
       "            <td>3.0</td>\n",
       "        </tr>\n",
       "        <tr>\n",
       "            <td>289</td>\n",
       "            <td>366.0</td>\n",
       "            <td>57.0</td>\n",
       "            <td>2.0</td>\n",
       "        </tr>\n",
       "        <tr>\n",
       "            <td>285</td>\n",
       "            <td>340.0</td>\n",
       "            <td>58.0</td>\n",
       "            <td>2.0</td>\n",
       "        </tr>\n",
       "        <tr>\n",
       "            <td>268</td>\n",
       "            <td>575.0</td>\n",
       "            <td>48.0</td>\n",
       "            <td>1.0</td>\n",
       "        </tr>\n",
       "        <tr>\n",
       "            <td>259</td>\n",
       "            <td>492.0</td>\n",
       "            <td>59.0</td>\n",
       "            <td>3.0</td>\n",
       "        </tr>\n",
       "        <tr>\n",
       "            <td>253</td>\n",
       "            <td>894.0</td>\n",
       "            <td>48.0</td>\n",
       "            <td>1.0</td>\n",
       "        </tr>\n",
       "        <tr>\n",
       "            <td>221</td>\n",
       "            <td>492.0</td>\n",
       "            <td>59.0</td>\n",
       "            <td>2.0</td>\n",
       "        </tr>\n",
       "        <tr>\n",
       "            <td>192</td>\n",
       "            <td>514.0</td>\n",
       "            <td>35.0</td>\n",
       "            <td>2.0</td>\n",
       "        </tr>\n",
       "        <tr>\n",
       "            <td>187</td>\n",
       "            <td>2644.0</td>\n",
       "            <td>60.0</td>\n",
       "            <td>6.0</td>\n",
       "        </tr>\n",
       "        <tr>\n",
       "            <td>171</td>\n",
       "            <td>3006.0</td>\n",
       "            <td>58.0</td>\n",
       "            <td>2.0</td>\n",
       "        </tr>\n",
       "        <tr>\n",
       "            <td>156</td>\n",
       "            <td>799.0</td>\n",
       "            <td>41.0</td>\n",
       "            <td>1.0</td>\n",
       "        </tr>\n",
       "        <tr>\n",
       "            <td>156</td>\n",
       "            <td>176.0</td>\n",
       "            <td>56.0</td>\n",
       "            <td>1.0</td>\n",
       "        </tr>\n",
       "        <tr>\n",
       "            <td>154</td>\n",
       "            <td>319.0</td>\n",
       "            <td>59.0</td>\n",
       "            <td>4.0</td>\n",
       "        </tr>\n",
       "        <tr>\n",
       "            <td>153</td>\n",
       "            <td>256.0</td>\n",
       "            <td>33.0</td>\n",
       "            <td>1.0</td>\n",
       "        </tr>\n",
       "        <tr>\n",
       "            <td>153</td>\n",
       "            <td>1257.0</td>\n",
       "            <td>50.0</td>\n",
       "            <td>1.0</td>\n",
       "        </tr>\n",
       "        <tr>\n",
       "            <td>150</td>\n",
       "            <td>625.0</td>\n",
       "            <td>51.0</td>\n",
       "            <td>1.0</td>\n",
       "        </tr>\n",
       "        <tr>\n",
       "            <td>147</td>\n",
       "            <td>162.0</td>\n",
       "            <td>56.0</td>\n",
       "            <td>5.0</td>\n",
       "        </tr>\n",
       "        <tr>\n",
       "            <td>143</td>\n",
       "            <td>1893.0</td>\n",
       "            <td>58.0</td>\n",
       "            <td>1.0</td>\n",
       "        </tr>\n",
       "        <tr>\n",
       "            <td>142</td>\n",
       "            <td>1257.0</td>\n",
       "            <td>50.0</td>\n",
       "            <td>1.0</td>\n",
       "        </tr>\n",
       "        <tr>\n",
       "            <td>141</td>\n",
       "            <td>236.0</td>\n",
       "            <td>42.0</td>\n",
       "            <td>1.0</td>\n",
       "        </tr>\n",
       "        <tr>\n",
       "            <td>141</td>\n",
       "            <td>591.0</td>\n",
       "            <td>35.0</td>\n",
       "            <td>3.0</td>\n",
       "        </tr>\n",
       "        <tr>\n",
       "            <td>139</td>\n",
       "            <td>409.0</td>\n",
       "            <td>40.0</td>\n",
       "            <td>1.0</td>\n",
       "        </tr>\n",
       "        <tr>\n",
       "            <td>138</td>\n",
       "            <td>93.0</td>\n",
       "            <td>59.0</td>\n",
       "            <td>7.0</td>\n",
       "        </tr>\n",
       "        <tr>\n",
       "            <td>138</td>\n",
       "            <td>100.0</td>\n",
       "            <td>49.0</td>\n",
       "            <td>4.0</td>\n",
       "        </tr>\n",
       "        <tr>\n",
       "            <td>134</td>\n",
       "            <td>1536.0</td>\n",
       "            <td>54.0</td>\n",
       "            <td>2.0</td>\n",
       "        </tr>\n",
       "    </tbody>\n",
       "</table>"
      ],
      "text/plain": [
       "[(458, 245.0, 54.0, 1.0),\n",
       " (429, 903.0, 44.0, 6.0),\n",
       " (351, 348.0, 56.0, 2.0),\n",
       " (320, 1893.0, 59.0, 1.0),\n",
       " (310, 341.0, 59.0, 2.0),\n",
       " (303, 523.0, 33.0, 3.0),\n",
       " (289, 366.0, 57.0, 2.0),\n",
       " (285, 340.0, 58.0, 2.0),\n",
       " (268, 575.0, 48.0, 1.0),\n",
       " (259, 492.0, 59.0, 3.0),\n",
       " (253, 894.0, 48.0, 1.0),\n",
       " (221, 492.0, 59.0, 2.0),\n",
       " (192, 514.0, 35.0, 2.0),\n",
       " (187, 2644.0, 60.0, 6.0),\n",
       " (171, 3006.0, 58.0, 2.0),\n",
       " (156, 799.0, 41.0, 1.0),\n",
       " (156, 176.0, 56.0, 1.0),\n",
       " (154, 319.0, 59.0, 4.0),\n",
       " (153, 256.0, 33.0, 1.0),\n",
       " (153, 1257.0, 50.0, 1.0),\n",
       " (150, 625.0, 51.0, 1.0),\n",
       " (147, 162.0, 56.0, 5.0),\n",
       " (143, 1893.0, 58.0, 1.0),\n",
       " (142, 1257.0, 50.0, 1.0),\n",
       " (141, 236.0, 42.0, 1.0),\n",
       " (141, 591.0, 35.0, 3.0),\n",
       " (139, 409.0, 40.0, 1.0),\n",
       " (138, 93.0, 59.0, 7.0),\n",
       " (138, 100.0, 49.0, 4.0),\n",
       " (134, 1536.0, 54.0, 2.0)]"
      ]
     },
     "execution_count": 41,
     "metadata": {},
     "output_type": "execute_result"
    }
   ],
   "source": [
    "%%sql\n",
    "SELECT COUNT(DISTINCT order_id) AS ORDER_NUM, AVG(product_description_lenght) AS AVG_DESCRIPTION_L,\n",
    "    AVG(product_name_lenght) AS AVG_NAME_L, AVG(product_photos_qty) AS AVG_PHOTO_NUM\n",
    "FROM BRAZILIANORDERS\n",
    "GROUP BY product_id \n",
    "ORDER BY ORDER_NUM DESC\n",
    "LIMIT 30;"
   ]
  },
  {
   "cell_type": "markdown",
   "metadata": {},
   "source": [
    "### What is the average order time from purchase to review for each specific product?"
   ]
  },
  {
   "cell_type": "code",
   "execution_count": 42,
   "metadata": {},
   "outputs": [
    {
     "name": "stdout",
     "output_type": "stream",
     "text": [
      " * sqlite:///brazilianData.db\n",
      "Done.\n"
     ]
    },
    {
     "data": {
      "text/html": [
       "<table>\n",
       "    <thead>\n",
       "        <tr>\n",
       "            <th>product_id</th>\n",
       "            <th>AVG_DELIVERY_TIME</th>\n",
       "        </tr>\n",
       "    </thead>\n",
       "    <tbody>\n",
       "        <tr>\n",
       "            <td>614d9b959168fce3e0cbd0645acbb666</td>\n",
       "            <td>522.9690393516794</td>\n",
       "        </tr>\n",
       "        <tr>\n",
       "            <td>b250756c5f34998033b1811801686a0c</td>\n",
       "            <td>390.9877025464084</td>\n",
       "        </tr>\n",
       "        <tr>\n",
       "            <td>759f2746cbd8fc01367864eccec63d46</td>\n",
       "            <td>319.4949305555783</td>\n",
       "        </tr>\n",
       "        <tr>\n",
       "            <td>1b37b3107916db24fcb0ea0f9c024bd3</td>\n",
       "            <td>319.216724537313</td>\n",
       "        </tr>\n",
       "        <tr>\n",
       "            <td>ac6c24af9f913c9375a3ea77883bda6e</td>\n",
       "            <td>305.35031250026077</td>\n",
       "        </tr>\n",
       "        <tr>\n",
       "            <td>bdce983de5f3fe3c23363b676b19dcbf</td>\n",
       "            <td>303.9984027775936</td>\n",
       "        </tr>\n",
       "        <tr>\n",
       "            <td>96d04f44d303175353cc3032d89eefb1</td>\n",
       "            <td>283.06674768496305</td>\n",
       "        </tr>\n",
       "        <tr>\n",
       "            <td>7bdf179ad010100a0ee238b988147fd1</td>\n",
       "            <td>282.08194444468245</td>\n",
       "        </tr>\n",
       "        <tr>\n",
       "            <td>24ad6518fbcba9b028f168019c6c2d67</td>\n",
       "            <td>256.09973379643634</td>\n",
       "        </tr>\n",
       "        <tr>\n",
       "            <td>9cf421049bcfaf6983bf0dfb40831a03</td>\n",
       "            <td>246.24973379587755</td>\n",
       "        </tr>\n",
       "    </tbody>\n",
       "</table>"
      ],
      "text/plain": [
       "[('614d9b959168fce3e0cbd0645acbb666', 522.9690393516794),\n",
       " ('b250756c5f34998033b1811801686a0c', 390.9877025464084),\n",
       " ('759f2746cbd8fc01367864eccec63d46', 319.4949305555783),\n",
       " ('1b37b3107916db24fcb0ea0f9c024bd3', 319.216724537313),\n",
       " ('ac6c24af9f913c9375a3ea77883bda6e', 305.35031250026077),\n",
       " ('bdce983de5f3fe3c23363b676b19dcbf', 303.9984027775936),\n",
       " ('96d04f44d303175353cc3032d89eefb1', 283.06674768496305),\n",
       " ('7bdf179ad010100a0ee238b988147fd1', 282.08194444468245),\n",
       " ('24ad6518fbcba9b028f168019c6c2d67', 256.09973379643634),\n",
       " ('9cf421049bcfaf6983bf0dfb40831a03', 246.24973379587755)]"
      ]
     },
     "execution_count": 42,
     "metadata": {},
     "output_type": "execute_result"
    }
   ],
   "source": [
    "%%sql\n",
    "SELECT product_id, AVG(julianday(review_answer_timestamp) - julianday(order_purchase_timestamp)) AS AVG_DELIVERY_TIME\n",
    "FROM BRAZILIANORDERS\n",
    "GROUP BY product_id\n",
    "ORDER BY AVG_DELIVERY_TIME DESC\n",
    "LIMIT 10;"
   ]
  },
  {
   "cell_type": "markdown",
   "metadata": {},
   "source": [
    "### Which product categories have the highest price/order number ratio?"
   ]
  },
  {
   "cell_type": "code",
   "execution_count": 43,
   "metadata": {},
   "outputs": [
    {
     "name": "stdout",
     "output_type": "stream",
     "text": [
      " * sqlite:///brazilianData.db\n",
      "Done.\n"
     ]
    },
    {
     "data": {
      "text/html": [
       "<table>\n",
       "    <thead>\n",
       "        <tr>\n",
       "            <th>product_category_name_english</th>\n",
       "            <th>PRICE_ORDERNUM_RATIO</th>\n",
       "        </tr>\n",
       "    </thead>\n",
       "    <tbody>\n",
       "        <tr>\n",
       "            <td>home_comfort_2</td>\n",
       "            <td>3.1315097961795604</td>\n",
       "        </tr>\n",
       "        <tr>\n",
       "            <td>flowers</td>\n",
       "            <td>2.7993281612413017</td>\n",
       "        </tr>\n",
       "        <tr>\n",
       "            <td>diapers_and_hygiene</td>\n",
       "            <td>1.7223891451208544</td>\n",
       "        </tr>\n",
       "        <tr>\n",
       "            <td>cds_dvds_musicals</td>\n",
       "            <td>1.643835616438356</td>\n",
       "        </tr>\n",
       "        <tr>\n",
       "            <td>electronics</td>\n",
       "            <td>1.5535657310530393</td>\n",
       "        </tr>\n",
       "        <tr>\n",
       "            <td>christmas_supplies</td>\n",
       "            <td>1.5524659566393808</td>\n",
       "        </tr>\n",
       "        <tr>\n",
       "            <td>food</td>\n",
       "            <td>1.5002643162300895</td>\n",
       "        </tr>\n",
       "        <tr>\n",
       "            <td>fashion_childrens_clothes</td>\n",
       "            <td>1.4038782135649732</td>\n",
       "        </tr>\n",
       "        <tr>\n",
       "            <td>food_drink</td>\n",
       "            <td>1.3755727495386374</td>\n",
       "        </tr>\n",
       "        <tr>\n",
       "            <td>fashio_female_clothing</td>\n",
       "            <td>1.3497425106595047</td>\n",
       "        </tr>\n",
       "        <tr>\n",
       "            <td>books_technical</td>\n",
       "            <td>1.3375009237603652</td>\n",
       "        </tr>\n",
       "        <tr>\n",
       "            <td>drinks</td>\n",
       "            <td>1.295868717991825</td>\n",
       "        </tr>\n",
       "        <tr>\n",
       "            <td>arts_and_craftmanship</td>\n",
       "            <td>1.2679092177000122</td>\n",
       "        </tr>\n",
       "        <tr>\n",
       "            <td>fashion_sport</td>\n",
       "            <td>1.2590347400326414</td>\n",
       "        </tr>\n",
       "        <tr>\n",
       "            <td>telephony</td>\n",
       "            <td>1.2411084539704413</td>\n",
       "        </tr>\n",
       "        <tr>\n",
       "            <td>fashion_underwear_beach</td>\n",
       "            <td>1.1672754332294142</td>\n",
       "        </tr>\n",
       "        <tr>\n",
       "            <td>fashion_bags_accessories</td>\n",
       "            <td>1.1428028293431212</td>\n",
       "        </tr>\n",
       "        <tr>\n",
       "            <td>tablets_printing_image</td>\n",
       "            <td>1.1289776301146728</td>\n",
       "        </tr>\n",
       "        <tr>\n",
       "            <td>books_imported</td>\n",
       "            <td>1.0923668291476456</td>\n",
       "        </tr>\n",
       "        <tr>\n",
       "            <td>books_general_interest</td>\n",
       "            <td>1.0600846815676692</td>\n",
       "        </tr>\n",
       "    </tbody>\n",
       "</table>"
      ],
      "text/plain": [
       "[('home_comfort_2', 3.1315097961795604),\n",
       " ('flowers', 2.7993281612413017),\n",
       " ('diapers_and_hygiene', 1.7223891451208544),\n",
       " ('cds_dvds_musicals', 1.643835616438356),\n",
       " ('electronics', 1.5535657310530393),\n",
       " ('christmas_supplies', 1.5524659566393808),\n",
       " ('food', 1.5002643162300895),\n",
       " ('fashion_childrens_clothes', 1.4038782135649732),\n",
       " ('food_drink', 1.3755727495386374),\n",
       " ('fashio_female_clothing', 1.3497425106595047),\n",
       " ('books_technical', 1.3375009237603652),\n",
       " ('drinks', 1.295868717991825),\n",
       " ('arts_and_craftmanship', 1.2679092177000122),\n",
       " ('fashion_sport', 1.2590347400326414),\n",
       " ('telephony', 1.2411084539704413),\n",
       " ('fashion_underwear_beach', 1.1672754332294142),\n",
       " ('fashion_bags_accessories', 1.1428028293431212),\n",
       " ('tablets_printing_image', 1.1289776301146728),\n",
       " ('books_imported', 1.0923668291476456),\n",
       " ('books_general_interest', 1.0600846815676692)]"
      ]
     },
     "execution_count": 43,
     "metadata": {},
     "output_type": "execute_result"
    }
   ],
   "source": [
    "%%sql\n",
    "SELECT product_category_name_english, (COUNT(DISTINCT order_id) * 100.0 / SUM(price)) AS PRICE_ORDERNUM_RATIO\n",
    "FROM BRAZILIANORDERS\n",
    "GROUP BY product_category_name_english\n",
    "ORDER BY PRICE_ORDERNUM_RATIO DESC\n",
    "LIMIT 20;"
   ]
  },
  {
   "cell_type": "markdown",
   "metadata": {},
   "source": [
    "## Customers"
   ]
  },
  {
   "cell_type": "markdown",
   "metadata": {},
   "source": [
    "### Which customers have the most number of orders?"
   ]
  },
  {
   "cell_type": "code",
   "execution_count": 44,
   "metadata": {},
   "outputs": [
    {
     "name": "stdout",
     "output_type": "stream",
     "text": [
      " * sqlite:///brazilianData.db\n",
      "Done.\n"
     ]
    },
    {
     "data": {
      "text/html": [
       "<table>\n",
       "    <thead>\n",
       "        <tr>\n",
       "            <th>customer_unique_id</th>\n",
       "            <th>ORDER_NUM</th>\n",
       "        </tr>\n",
       "    </thead>\n",
       "    <tbody>\n",
       "        <tr>\n",
       "            <td>8d50f5eadf50201ccdcedfb9e2ac8455</td>\n",
       "            <td>15</td>\n",
       "        </tr>\n",
       "    </tbody>\n",
       "</table>"
      ],
      "text/plain": [
       "[('8d50f5eadf50201ccdcedfb9e2ac8455', 15)]"
      ]
     },
     "execution_count": 44,
     "metadata": {},
     "output_type": "execute_result"
    }
   ],
   "source": [
    "%%sql\n",
    "SELECT customer_unique_id, COUNT(DISTINCT order_id) AS ORDER_NUM\n",
    "FROM BRAZILIANORDERS\n",
    "GROUP BY customer_unique_id\n",
    "ORDER BY ORDER_NUM DESC\n",
    "LIMIT 1;"
   ]
  },
  {
   "cell_type": "markdown",
   "metadata": {},
   "source": [
    "### What are the top 10 customer cities that made the most sales volumn?"
   ]
  },
  {
   "cell_type": "code",
   "execution_count": 45,
   "metadata": {},
   "outputs": [
    {
     "name": "stdout",
     "output_type": "stream",
     "text": [
      " * sqlite:///brazilianData.db\n",
      "Done.\n"
     ]
    },
    {
     "data": {
      "text/html": [
       "<table>\n",
       "    <thead>\n",
       "        <tr>\n",
       "            <th>customer_city</th>\n",
       "            <th>TOTAL_SALES</th>\n",
       "        </tr>\n",
       "    </thead>\n",
       "    <tbody>\n",
       "        <tr>\n",
       "            <td>sao paulo</td>\n",
       "            <td>2807526.0300000184</td>\n",
       "        </tr>\n",
       "        <tr>\n",
       "            <td>rio de janeiro</td>\n",
       "            <td>1536347.9300000041</td>\n",
       "        </tr>\n",
       "        <tr>\n",
       "            <td>belo horizonte</td>\n",
       "            <td>492767.96000000066</td>\n",
       "        </tr>\n",
       "        <tr>\n",
       "            <td>brasilia</td>\n",
       "            <td>428036.2999999998</td>\n",
       "        </tr>\n",
       "        <tr>\n",
       "            <td>curitiba</td>\n",
       "            <td>327886.87999999954</td>\n",
       "        </tr>\n",
       "        <tr>\n",
       "            <td>porto alegre</td>\n",
       "            <td>311302.47000000067</td>\n",
       "        </tr>\n",
       "        <tr>\n",
       "            <td>salvador</td>\n",
       "            <td>281542.2699999999</td>\n",
       "        </tr>\n",
       "        <tr>\n",
       "            <td>campinas</td>\n",
       "            <td>262096.31999999913</td>\n",
       "        </tr>\n",
       "        <tr>\n",
       "            <td>guarulhos</td>\n",
       "            <td>199503.8200000001</td>\n",
       "        </tr>\n",
       "        <tr>\n",
       "            <td>niteroi</td>\n",
       "            <td>174032.29999999993</td>\n",
       "        </tr>\n",
       "    </tbody>\n",
       "</table>"
      ],
      "text/plain": [
       "[('sao paulo', 2807526.0300000184),\n",
       " ('rio de janeiro', 1536347.9300000041),\n",
       " ('belo horizonte', 492767.96000000066),\n",
       " ('brasilia', 428036.2999999998),\n",
       " ('curitiba', 327886.87999999954),\n",
       " ('porto alegre', 311302.47000000067),\n",
       " ('salvador', 281542.2699999999),\n",
       " ('campinas', 262096.31999999913),\n",
       " ('guarulhos', 199503.8200000001),\n",
       " ('niteroi', 174032.29999999993)]"
      ]
     },
     "execution_count": 45,
     "metadata": {},
     "output_type": "execute_result"
    }
   ],
   "source": [
    "%%sql\n",
    "SELECT customer_city, SUM(payment_value) AS TOTAL_SALES\n",
    "FROM BRAZILIANORDERS\n",
    "GROUP BY customer_city\n",
    "ORDER BY TOTAL_SALES DESC\n",
    "LIMIT 10;"
   ]
  },
  {
   "cell_type": "markdown",
   "metadata": {},
   "source": [
    "### Which customer state has the highest order frequency?"
   ]
  },
  {
   "cell_type": "code",
   "execution_count": 46,
   "metadata": {},
   "outputs": [
    {
     "name": "stdout",
     "output_type": "stream",
     "text": [
      " * sqlite:///brazilianData.db\n",
      "Done.\n"
     ]
    },
    {
     "data": {
      "text/html": [
       "<table>\n",
       "    <thead>\n",
       "        <tr>\n",
       "            <th>customer_state</th>\n",
       "            <th>ORDER_NUM</th>\n",
       "        </tr>\n",
       "    </thead>\n",
       "    <tbody>\n",
       "        <tr>\n",
       "            <td>SP</td>\n",
       "            <td>48797</td>\n",
       "        </tr>\n",
       "    </tbody>\n",
       "</table>"
      ],
      "text/plain": [
       "[('SP', 48797)]"
      ]
     },
     "execution_count": 46,
     "metadata": {},
     "output_type": "execute_result"
    }
   ],
   "source": [
    "%%sql\n",
    "SELECT customer_state, COUNT(order_id) AS ORDER_NUM\n",
    "FROM BRAZILIANORDERS\n",
    "GROUP BY customer_state\n",
    "ORDER BY ORDER_NUM DESC\n",
    "LIMIT 1;"
   ]
  },
  {
   "cell_type": "markdown",
   "metadata": {},
   "source": [
    "### Which customer state has the highest revenue generation?"
   ]
  },
  {
   "cell_type": "code",
   "execution_count": 47,
   "metadata": {},
   "outputs": [
    {
     "name": "stdout",
     "output_type": "stream",
     "text": [
      " * sqlite:///brazilianData.db\n",
      "Done.\n"
     ]
    },
    {
     "data": {
      "text/html": [
       "<table>\n",
       "    <thead>\n",
       "        <tr>\n",
       "            <th>customer_state</th>\n",
       "            <th>TOTAL_SALES</th>\n",
       "        </tr>\n",
       "    </thead>\n",
       "    <tbody>\n",
       "        <tr>\n",
       "            <td>SP</td>\n",
       "            <td>7502926.949999758</td>\n",
       "        </tr>\n",
       "    </tbody>\n",
       "</table>"
      ],
      "text/plain": [
       "[('SP', 7502926.949999758)]"
      ]
     },
     "execution_count": 47,
     "metadata": {},
     "output_type": "execute_result"
    }
   ],
   "source": [
    "%%sql\n",
    "SELECT customer_state, SUM(payment_value) AS TOTAL_SALES\n",
    "FROM BRAZILIANORDERS\n",
    "GROUP BY customer_state\n",
    "ORDER BY TOTAL_SALES DESC\n",
    "LIMIT 1;"
   ]
  },
  {
   "cell_type": "markdown",
   "metadata": {},
   "source": [
    "### How many customers made a second purchase within one day after the first purchase?"
   ]
  },
  {
   "cell_type": "code",
   "execution_count": 48,
   "metadata": {},
   "outputs": [
    {
     "name": "stdout",
     "output_type": "stream",
     "text": [
      " * sqlite:///brazilianData.db\n",
      "Done.\n"
     ]
    },
    {
     "data": {
      "text/html": [
       "<table>\n",
       "    <thead>\n",
       "        <tr>\n",
       "            <th>NUMBER</th>\n",
       "        </tr>\n",
       "    </thead>\n",
       "    <tbody>\n",
       "        <tr>\n",
       "            <td>334</td>\n",
       "        </tr>\n",
       "    </tbody>\n",
       "</table>"
      ],
      "text/plain": [
       "[(334,)]"
      ]
     },
     "execution_count": 48,
     "metadata": {},
     "output_type": "execute_result"
    }
   ],
   "source": [
    "%%sql\n",
    "SELECT COUNT(*) AS NUMBER\n",
    "FROM(\n",
    "    SELECT o1.customer_unique_id, o1.order_purchase_timestamp as FIRST_ORDER_TIME, o2.order_purchase_timestamp as SECOND_ORDER_TIME\n",
    "    FROM BRAZILIANORDERS o1\n",
    "    JOIN BRAZILIANORDERS o2\n",
    "    ON o1.customer_unique_id = o2.customer_unique_id\n",
    "    WHERE o2.order_purchase_timestamp BETWEEN o1.order_purchase_timestamp AND DATE(o1.order_purchase_timestamp, '+1 days')\n",
    "    AND o2.order_purchase_timestamp <> o1.order_purchase_timestamp\n",
    "    AND o2.order_id != o1.order_id\n",
    "    GROUP BY o1.customer_unique_id\n",
    "    HAVING COUNT(*) > 1\n",
    "    ORDER BY o1.customer_unique_id\n",
    ") SUBQUERY"
   ]
  },
  {
   "cell_type": "markdown",
   "metadata": {},
   "source": [
    "### Which customer has made the most expensive purchase?"
   ]
  },
  {
   "cell_type": "code",
   "execution_count": 49,
   "metadata": {},
   "outputs": [
    {
     "name": "stdout",
     "output_type": "stream",
     "text": [
      " * sqlite:///brazilianData.db\n",
      "Done.\n"
     ]
    },
    {
     "data": {
      "text/html": [
       "<table>\n",
       "    <thead>\n",
       "        <tr>\n",
       "            <th>customer_unique_id</th>\n",
       "            <th>MAX(payment_value)</th>\n",
       "        </tr>\n",
       "    </thead>\n",
       "    <tbody>\n",
       "        <tr>\n",
       "            <td>0a0a92112bd4c708ca5fde585afaa872</td>\n",
       "            <td>13664.08</td>\n",
       "        </tr>\n",
       "    </tbody>\n",
       "</table>"
      ],
      "text/plain": [
       "[('0a0a92112bd4c708ca5fde585afaa872', 13664.08)]"
      ]
     },
     "execution_count": 49,
     "metadata": {},
     "output_type": "execute_result"
    }
   ],
   "source": [
    "%%sql\n",
    "SELECT customer_unique_id, MAX(payment_value) FROM BRAZILIANORDERS;"
   ]
  },
  {
   "cell_type": "markdown",
   "metadata": {},
   "source": [
    "## Sellers"
   ]
  },
  {
   "cell_type": "markdown",
   "metadata": {},
   "source": [
    "### Which seller has the most number of products listed?"
   ]
  },
  {
   "cell_type": "code",
   "execution_count": 50,
   "metadata": {},
   "outputs": [
    {
     "name": "stdout",
     "output_type": "stream",
     "text": [
      " * sqlite:///brazilianData.db\n",
      "Done.\n"
     ]
    },
    {
     "data": {
      "text/html": [
       "<table>\n",
       "    <thead>\n",
       "        <tr>\n",
       "            <th>seller_id</th>\n",
       "            <th>SOLD_NUM</th>\n",
       "        </tr>\n",
       "    </thead>\n",
       "    <tbody>\n",
       "        <tr>\n",
       "            <td>4a3ca9315b744ce9f8e9374361493884</td>\n",
       "            <td>2128</td>\n",
       "        </tr>\n",
       "    </tbody>\n",
       "</table>"
      ],
      "text/plain": [
       "[('4a3ca9315b744ce9f8e9374361493884', 2128)]"
      ]
     },
     "execution_count": 50,
     "metadata": {},
     "output_type": "execute_result"
    }
   ],
   "source": [
    "%%sql\n",
    "SELECT seller_id, COUNT(*) AS SOLD_NUM\n",
    "FROM BRAZILIANORDERS\n",
    "GROUP BY seller_id\n",
    "ORDER BY SOLD_NUM DESC\n",
    "LIMIT 1;"
   ]
  },
  {
   "cell_type": "markdown",
   "metadata": {},
   "source": [
    "### Where are the top 10 seller cities?"
   ]
  },
  {
   "cell_type": "code",
   "execution_count": 51,
   "metadata": {},
   "outputs": [
    {
     "name": "stdout",
     "output_type": "stream",
     "text": [
      " * sqlite:///brazilianData.db\n",
      "Done.\n"
     ]
    },
    {
     "data": {
      "text/html": [
       "<table>\n",
       "    <thead>\n",
       "        <tr>\n",
       "            <th>seller_city</th>\n",
       "            <th>ORDER_NUM</th>\n",
       "            <th>TOTAL_SALE</th>\n",
       "        </tr>\n",
       "    </thead>\n",
       "    <tbody>\n",
       "        <tr>\n",
       "            <td>sao paulo</td>\n",
       "            <td>24215</td>\n",
       "            <td>4154006.769999939</td>\n",
       "        </tr>\n",
       "        <tr>\n",
       "            <td>ibitinga</td>\n",
       "            <td>6473</td>\n",
       "            <td>1060183.6900000009</td>\n",
       "        </tr>\n",
       "        <tr>\n",
       "            <td>santo andre</td>\n",
       "            <td>2696</td>\n",
       "            <td>350176.1799999983</td>\n",
       "        </tr>\n",
       "        <tr>\n",
       "            <td>curitiba</td>\n",
       "            <td>2678</td>\n",
       "            <td>646929.9299999998</td>\n",
       "        </tr>\n",
       "        <tr>\n",
       "            <td>belo horizonte</td>\n",
       "            <td>2324</td>\n",
       "            <td>289727.4200000001</td>\n",
       "        </tr>\n",
       "        <tr>\n",
       "            <td>rio de janeiro</td>\n",
       "            <td>2117</td>\n",
       "            <td>478609.310000002</td>\n",
       "        </tr>\n",
       "        <tr>\n",
       "            <td>ribeirao preto</td>\n",
       "            <td>1985</td>\n",
       "            <td>386479.18000000005</td>\n",
       "        </tr>\n",
       "        <tr>\n",
       "            <td>sao jose do rio preto</td>\n",
       "            <td>1957</td>\n",
       "            <td>413318.0700000041</td>\n",
       "        </tr>\n",
       "        <tr>\n",
       "            <td>maringa</td>\n",
       "            <td>1848</td>\n",
       "            <td>386153.9600000004</td>\n",
       "        </tr>\n",
       "        <tr>\n",
       "            <td>guarulhos</td>\n",
       "            <td>1694</td>\n",
       "            <td>447877.5800000007</td>\n",
       "        </tr>\n",
       "    </tbody>\n",
       "</table>"
      ],
      "text/plain": [
       "[('sao paulo', 24215, 4154006.769999939),\n",
       " ('ibitinga', 6473, 1060183.6900000009),\n",
       " ('santo andre', 2696, 350176.1799999983),\n",
       " ('curitiba', 2678, 646929.9299999998),\n",
       " ('belo horizonte', 2324, 289727.4200000001),\n",
       " ('rio de janeiro', 2117, 478609.310000002),\n",
       " ('ribeirao preto', 1985, 386479.18000000005),\n",
       " ('sao jose do rio preto', 1957, 413318.0700000041),\n",
       " ('maringa', 1848, 386153.9600000004),\n",
       " ('guarulhos', 1694, 447877.5800000007)]"
      ]
     },
     "execution_count": 51,
     "metadata": {},
     "output_type": "execute_result"
    }
   ],
   "source": [
    "%%sql\n",
    "SELECT seller_city, COUNT(DISTINCT order_id) AS ORDER_NUM, SUM(payment_value) AS TOTAL_SALE\n",
    "FROM BRAZILIANORDERS\n",
    "GROUP BY seller_city\n",
    "ORDER BY ORDER_NUM DESC\n",
    "LIMIT 10;"
   ]
  },
  {
   "cell_type": "markdown",
   "metadata": {},
   "source": [
    "### Where is the top customer state for each seller state?"
   ]
  },
  {
   "cell_type": "code",
   "execution_count": 52,
   "metadata": {},
   "outputs": [
    {
     "name": "stdout",
     "output_type": "stream",
     "text": [
      " * sqlite:///brazilianData.db\n",
      "Done.\n"
     ]
    },
    {
     "data": {
      "text/html": [
       "<table>\n",
       "    <thead>\n",
       "        <tr>\n",
       "            <th>seller_state</th>\n",
       "            <th>customer_state</th>\n",
       "            <th>ORDER_NUM</th>\n",
       "        </tr>\n",
       "    </thead>\n",
       "    <tbody>\n",
       "        <tr>\n",
       "            <td>SP</td>\n",
       "            <td>SP</td>\n",
       "            <td>30836</td>\n",
       "        </tr>\n",
       "        <tr>\n",
       "            <td>SP</td>\n",
       "            <td>RJ</td>\n",
       "            <td>8235</td>\n",
       "        </tr>\n",
       "        <tr>\n",
       "            <td>SP</td>\n",
       "            <td>MG</td>\n",
       "            <td>7421</td>\n",
       "        </tr>\n",
       "        <tr>\n",
       "            <td>SP</td>\n",
       "            <td>RS</td>\n",
       "            <td>3599</td>\n",
       "        </tr>\n",
       "        <tr>\n",
       "            <td>SP</td>\n",
       "            <td>PR</td>\n",
       "            <td>3109</td>\n",
       "        </tr>\n",
       "        <tr>\n",
       "            <td>PR</td>\n",
       "            <td>SP</td>\n",
       "            <td>2980</td>\n",
       "        </tr>\n",
       "        <tr>\n",
       "            <td>MG</td>\n",
       "            <td>SP</td>\n",
       "            <td>2553</td>\n",
       "        </tr>\n",
       "        <tr>\n",
       "            <td>SP</td>\n",
       "            <td>BA</td>\n",
       "            <td>2328</td>\n",
       "        </tr>\n",
       "        <tr>\n",
       "            <td>SP</td>\n",
       "            <td>SC</td>\n",
       "            <td>2303</td>\n",
       "        </tr>\n",
       "        <tr>\n",
       "            <td>MG</td>\n",
       "            <td>MG</td>\n",
       "            <td>1528</td>\n",
       "        </tr>\n",
       "    </tbody>\n",
       "</table>"
      ],
      "text/plain": [
       "[('SP', 'SP', 30836),\n",
       " ('SP', 'RJ', 8235),\n",
       " ('SP', 'MG', 7421),\n",
       " ('SP', 'RS', 3599),\n",
       " ('SP', 'PR', 3109),\n",
       " ('PR', 'SP', 2980),\n",
       " ('MG', 'SP', 2553),\n",
       " ('SP', 'BA', 2328),\n",
       " ('SP', 'SC', 2303),\n",
       " ('MG', 'MG', 1528)]"
      ]
     },
     "execution_count": 52,
     "metadata": {},
     "output_type": "execute_result"
    }
   ],
   "source": [
    "%%sql\n",
    "SELECT seller_state, customer_state, COUNT(DISTINCT order_id) AS ORDER_NUM\n",
    "FROM BRAZILIANORDERS\n",
    "GROUP BY seller_state, customer_state\n",
    "ORDER BY ORDER_NUM DESC\n",
    "LIMIT 10;"
   ]
  },
  {
   "cell_type": "markdown",
   "metadata": {},
   "source": [
    "### How many sellers has the highest customer review score (5.0)?"
   ]
  },
  {
   "cell_type": "code",
   "execution_count": 53,
   "metadata": {},
   "outputs": [
    {
     "name": "stdout",
     "output_type": "stream",
     "text": [
      " * sqlite:///brazilianData.db\n",
      "Done.\n"
     ]
    },
    {
     "data": {
      "text/html": [
       "<table>\n",
       "    <thead>\n",
       "        <tr>\n",
       "            <th>COUNT(*)</th>\n",
       "        </tr>\n",
       "    </thead>\n",
       "    <tbody>\n",
       "        <tr>\n",
       "            <td>507</td>\n",
       "        </tr>\n",
       "    </tbody>\n",
       "</table>"
      ],
      "text/plain": [
       "[(507,)]"
      ]
     },
     "execution_count": 53,
     "metadata": {},
     "output_type": "execute_result"
    }
   ],
   "source": [
    "%%sql\n",
    "SELECT COUNT(*)\n",
    "FROM(\n",
    "    SELECT seller_id, AVG(review_score) AS AVG_REVIEW_SCORE\n",
    "    FROM BRAZILIANORDERS\n",
    "    GROUP BY seller_id\n",
    "    HAVING AVG_REVIEW_SCORE = 5.0\n",
    ") SUBQUERY"
   ]
  },
  {
   "cell_type": "markdown",
   "metadata": {},
   "source": [
    "### Which are the top 10 sellers that shipped products to the most number of different cities?"
   ]
  },
  {
   "cell_type": "code",
   "execution_count": 54,
   "metadata": {},
   "outputs": [
    {
     "name": "stdout",
     "output_type": "stream",
     "text": [
      " * sqlite:///brazilianData.db\n",
      "Done.\n"
     ]
    },
    {
     "data": {
      "text/html": [
       "<table>\n",
       "    <thead>\n",
       "        <tr>\n",
       "            <th>seller_id</th>\n",
       "            <th>CITY_NUM</th>\n",
       "        </tr>\n",
       "    </thead>\n",
       "    <tbody>\n",
       "        <tr>\n",
       "            <td>4a3ca9315b744ce9f8e9374361493884</td>\n",
       "            <td>627</td>\n",
       "        </tr>\n",
       "        <tr>\n",
       "            <td>cc419e0650a3c5ba77189a1882b7556a</td>\n",
       "            <td>626</td>\n",
       "        </tr>\n",
       "        <tr>\n",
       "            <td>6560211a19b47992c3666cc44a7e94c0</td>\n",
       "            <td>592</td>\n",
       "        </tr>\n",
       "        <tr>\n",
       "            <td>7a67c85e85bb2ce8582c35f2203ad736</td>\n",
       "            <td>569</td>\n",
       "        </tr>\n",
       "        <tr>\n",
       "            <td>ea8482cd71df3c1969d7b9473ff13abc</td>\n",
       "            <td>506</td>\n",
       "        </tr>\n",
       "        <tr>\n",
       "            <td>1f50f920176fa81dab994f9023523100</td>\n",
       "            <td>502</td>\n",
       "        </tr>\n",
       "        <tr>\n",
       "            <td>955fee9216a65b617aa5c0531780ce60</td>\n",
       "            <td>444</td>\n",
       "        </tr>\n",
       "        <tr>\n",
       "            <td>3d871de0142ce09b7081e2b9d1733cb1</td>\n",
       "            <td>431</td>\n",
       "        </tr>\n",
       "        <tr>\n",
       "            <td>1025f0e2d44d7041d6cf58b6550e0bfa</td>\n",
       "            <td>408</td>\n",
       "        </tr>\n",
       "        <tr>\n",
       "            <td>4869f7a5dfa277a7dca6462dcf3b52b2</td>\n",
       "            <td>399</td>\n",
       "        </tr>\n",
       "    </tbody>\n",
       "</table>"
      ],
      "text/plain": [
       "[('4a3ca9315b744ce9f8e9374361493884', 627),\n",
       " ('cc419e0650a3c5ba77189a1882b7556a', 626),\n",
       " ('6560211a19b47992c3666cc44a7e94c0', 592),\n",
       " ('7a67c85e85bb2ce8582c35f2203ad736', 569),\n",
       " ('ea8482cd71df3c1969d7b9473ff13abc', 506),\n",
       " ('1f50f920176fa81dab994f9023523100', 502),\n",
       " ('955fee9216a65b617aa5c0531780ce60', 444),\n",
       " ('3d871de0142ce09b7081e2b9d1733cb1', 431),\n",
       " ('1025f0e2d44d7041d6cf58b6550e0bfa', 408),\n",
       " ('4869f7a5dfa277a7dca6462dcf3b52b2', 399)]"
      ]
     },
     "execution_count": 54,
     "metadata": {},
     "output_type": "execute_result"
    }
   ],
   "source": [
    "%%sql\n",
    "SELECT seller_id, COUNT(DISTINCT customer_city) AS CITY_NUM\n",
    "FROM BRAZILIANORDERS\n",
    "GROUP BY seller_id\n",
    "ORDER BY CITY_NUM DESC\n",
    "LIMIT 10;"
   ]
  },
  {
   "cell_type": "markdown",
   "metadata": {},
   "source": [
    "### What is the average product price and average freight value of each seller?"
   ]
  },
  {
   "cell_type": "code",
   "execution_count": 55,
   "metadata": {},
   "outputs": [
    {
     "name": "stdout",
     "output_type": "stream",
     "text": [
      " * sqlite:///brazilianData.db\n",
      "Done.\n"
     ]
    },
    {
     "data": {
      "text/html": [
       "<table>\n",
       "    <thead>\n",
       "        <tr>\n",
       "            <th>seller_id</th>\n",
       "            <th>AVG_PRICE</th>\n",
       "            <th>AVG_FREIGHT</th>\n",
       "        </tr>\n",
       "    </thead>\n",
       "    <tbody>\n",
       "        <tr>\n",
       "            <td>e3b4998c7a498169dc7bce44e6bb6277</td>\n",
       "            <td>6735.0</td>\n",
       "            <td>194.31</td>\n",
       "        </tr>\n",
       "        <tr>\n",
       "            <td>ee27a8f15b1dded4d213a468ba4eb391</td>\n",
       "            <td>6499.0</td>\n",
       "            <td>227.66</td>\n",
       "        </tr>\n",
       "        <tr>\n",
       "            <td>59417c56835dd8e2e72f91f809cd4092</td>\n",
       "            <td>4799.0</td>\n",
       "            <td>151.34</td>\n",
       "        </tr>\n",
       "        <tr>\n",
       "            <td>59417c56835dd8e2e72f91f809cd4092</td>\n",
       "            <td>4690.0</td>\n",
       "            <td>74.34</td>\n",
       "        </tr>\n",
       "        <tr>\n",
       "            <td>c72de06d72748d1a0dfb2125be43ba63</td>\n",
       "            <td>4590.0</td>\n",
       "            <td>91.78</td>\n",
       "        </tr>\n",
       "        <tr>\n",
       "            <td>512d298ac2a96d1931b6bd30aa21f61d</td>\n",
       "            <td>4399.87</td>\n",
       "            <td>113.45</td>\n",
       "        </tr>\n",
       "        <tr>\n",
       "            <td>ed4acab38528488b65a9a9c603ff024a</td>\n",
       "            <td>4099.99</td>\n",
       "            <td>75.27</td>\n",
       "        </tr>\n",
       "        <tr>\n",
       "            <td>fa1c13f2614d7b5c4749cbc52fecda94</td>\n",
       "            <td>3999.9</td>\n",
       "            <td>17.01</td>\n",
       "        </tr>\n",
       "        <tr>\n",
       "            <td>59417c56835dd8e2e72f91f809cd4092</td>\n",
       "            <td>3999.0</td>\n",
       "            <td>195.76</td>\n",
       "        </tr>\n",
       "        <tr>\n",
       "            <td>039e6ad9dae79614493083e241147386</td>\n",
       "            <td>3930.0</td>\n",
       "            <td>49.55</td>\n",
       "        </tr>\n",
       "        <tr>\n",
       "            <td>c510bc1718f0f2961eaa42a23330681a</td>\n",
       "            <td>3899.0</td>\n",
       "            <td>135.44</td>\n",
       "        </tr>\n",
       "        <tr>\n",
       "            <td>821fb029fc6e495ca4f08a35d51e53a5</td>\n",
       "            <td>3874.5</td>\n",
       "            <td>120.655</td>\n",
       "        </tr>\n",
       "        <tr>\n",
       "            <td>2bf6a2c1e71bbd29a4ad64e6d3c3629f</td>\n",
       "            <td>3700.0</td>\n",
       "            <td>92.59</td>\n",
       "        </tr>\n",
       "        <tr>\n",
       "            <td>403aa86912527d730337ffcb0fb096ab</td>\n",
       "            <td>3699.99</td>\n",
       "            <td>36.23</td>\n",
       "        </tr>\n",
       "        <tr>\n",
       "            <td>585175ec331ea177fa47199e39a6170a</td>\n",
       "            <td>3549.0</td>\n",
       "            <td>53.47</td>\n",
       "        </tr>\n",
       "        <tr>\n",
       "            <td>a00824eb9093d40e589b940ec45c4eb0</td>\n",
       "            <td>3133.3233333333333</td>\n",
       "            <td>126.49666666666667</td>\n",
       "        </tr>\n",
       "        <tr>\n",
       "            <td>bede56095ba33c42038fb85f707b8a42</td>\n",
       "            <td>3124.0</td>\n",
       "            <td>173.4</td>\n",
       "        </tr>\n",
       "        <tr>\n",
       "            <td>f9244d45189d3a3605499abddeade7d5</td>\n",
       "            <td>3109.99</td>\n",
       "            <td>74.35</td>\n",
       "        </tr>\n",
       "        <tr>\n",
       "            <td>039e6ad9dae79614493083e241147386</td>\n",
       "            <td>3105.0</td>\n",
       "            <td>104.72</td>\n",
       "        </tr>\n",
       "        <tr>\n",
       "            <td>4a3ccda38b2129705f3fb522db62ca31</td>\n",
       "            <td>3099.9</td>\n",
       "            <td>55.92</td>\n",
       "        </tr>\n",
       "    </tbody>\n",
       "</table>"
      ],
      "text/plain": [
       "[('e3b4998c7a498169dc7bce44e6bb6277', 6735.0, 194.31),\n",
       " ('ee27a8f15b1dded4d213a468ba4eb391', 6499.0, 227.66),\n",
       " ('59417c56835dd8e2e72f91f809cd4092', 4799.0, 151.34),\n",
       " ('59417c56835dd8e2e72f91f809cd4092', 4690.0, 74.34),\n",
       " ('c72de06d72748d1a0dfb2125be43ba63', 4590.0, 91.78),\n",
       " ('512d298ac2a96d1931b6bd30aa21f61d', 4399.87, 113.45),\n",
       " ('ed4acab38528488b65a9a9c603ff024a', 4099.99, 75.27),\n",
       " ('fa1c13f2614d7b5c4749cbc52fecda94', 3999.9, 17.01),\n",
       " ('59417c56835dd8e2e72f91f809cd4092', 3999.0, 195.76),\n",
       " ('039e6ad9dae79614493083e241147386', 3930.0, 49.55),\n",
       " ('c510bc1718f0f2961eaa42a23330681a', 3899.0, 135.44),\n",
       " ('821fb029fc6e495ca4f08a35d51e53a5', 3874.5, 120.655),\n",
       " ('2bf6a2c1e71bbd29a4ad64e6d3c3629f', 3700.0, 92.59),\n",
       " ('403aa86912527d730337ffcb0fb096ab', 3699.99, 36.23),\n",
       " ('585175ec331ea177fa47199e39a6170a', 3549.0, 53.47),\n",
       " ('a00824eb9093d40e589b940ec45c4eb0', 3133.3233333333333, 126.49666666666667),\n",
       " ('bede56095ba33c42038fb85f707b8a42', 3124.0, 173.4),\n",
       " ('f9244d45189d3a3605499abddeade7d5', 3109.99, 74.35),\n",
       " ('039e6ad9dae79614493083e241147386', 3105.0, 104.72),\n",
       " ('4a3ccda38b2129705f3fb522db62ca31', 3099.9, 55.92)]"
      ]
     },
     "execution_count": 55,
     "metadata": {},
     "output_type": "execute_result"
    }
   ],
   "source": [
    "%%sql\n",
    "SELECT seller_id, AVG(price) AS AVG_PRICE, AVG(freight_value) AS AVG_FREIGHT\n",
    "FROM BRAZILIANORDERS\n",
    "GROUP BY seller_id, product_id\n",
    "ORDER BY AVG_PRICE DESC\n",
    "LIMIT 20;"
   ]
  },
  {
   "cell_type": "markdown",
   "metadata": {},
   "source": [
    "## Payment"
   ]
  },
  {
   "cell_type": "markdown",
   "metadata": {},
   "source": [
    "### What is the most used payment type?"
   ]
  },
  {
   "cell_type": "code",
   "execution_count": 56,
   "metadata": {},
   "outputs": [
    {
     "name": "stdout",
     "output_type": "stream",
     "text": [
      " * sqlite:///brazilianData.db\n",
      "Done.\n"
     ]
    },
    {
     "data": {
      "text/html": [
       "<table>\n",
       "    <thead>\n",
       "        <tr>\n",
       "            <th>payment_type</th>\n",
       "            <th>ORDER_NUUM</th>\n",
       "        </tr>\n",
       "    </thead>\n",
       "    <tbody>\n",
       "        <tr>\n",
       "            <td>credit_card</td>\n",
       "            <td>74328</td>\n",
       "        </tr>\n",
       "    </tbody>\n",
       "</table>"
      ],
      "text/plain": [
       "[('credit_card', 74328)]"
      ]
     },
     "execution_count": 56,
     "metadata": {},
     "output_type": "execute_result"
    }
   ],
   "source": [
    "%%sql\n",
    "SELECT payment_type, COUNT(DISTINCT order_id) AS ORDER_NUUM\n",
    "FROM BRAZILIANORDERS\n",
    "GROUP BY payment_type\n",
    "ORDER BY ORDER_NUUM DESC\n",
    "LIMIT 1;"
   ]
  },
  {
   "cell_type": "markdown",
   "metadata": {},
   "source": [
    "### What is the average payment value for each payment installment?"
   ]
  },
  {
   "cell_type": "code",
   "execution_count": 57,
   "metadata": {},
   "outputs": [
    {
     "name": "stdout",
     "output_type": "stream",
     "text": [
      " * sqlite:///brazilianData.db\n",
      "Done.\n"
     ]
    },
    {
     "data": {
      "text/html": [
       "<table>\n",
       "    <thead>\n",
       "        <tr>\n",
       "            <th>payment_installments</th>\n",
       "            <th>AVG_PAYMENT_VALUE</th>\n",
       "        </tr>\n",
       "    </thead>\n",
       "    <tbody>\n",
       "        <tr>\n",
       "            <td>24</td>\n",
       "            <td>801.7379411764704</td>\n",
       "        </tr>\n",
       "        <tr>\n",
       "            <td>20</td>\n",
       "            <td>537.3609999999999</td>\n",
       "        </tr>\n",
       "        <tr>\n",
       "            <td>18</td>\n",
       "            <td>493.3452631578949</td>\n",
       "        </tr>\n",
       "        <tr>\n",
       "            <td>10</td>\n",
       "            <td>430.2689152542378</td>\n",
       "        </tr>\n",
       "        <tr>\n",
       "            <td>16</td>\n",
       "            <td>395.08142857142855</td>\n",
       "        </tr>\n",
       "        <tr>\n",
       "            <td>15</td>\n",
       "            <td>391.78626373626383</td>\n",
       "        </tr>\n",
       "        <tr>\n",
       "            <td>12</td>\n",
       "            <td>314.82859756097554</td>\n",
       "        </tr>\n",
       "        <tr>\n",
       "            <td>8</td>\n",
       "            <td>309.527668063037</td>\n",
       "        </tr>\n",
       "        <tr>\n",
       "            <td>21</td>\n",
       "            <td>258.86499999999995</td>\n",
       "        </tr>\n",
       "        <tr>\n",
       "            <td>23</td>\n",
       "            <td>236.48</td>\n",
       "        </tr>\n",
       "        <tr>\n",
       "            <td>6</td>\n",
       "            <td>234.96410690717173</td>\n",
       "        </tr>\n",
       "        <tr>\n",
       "            <td>22</td>\n",
       "            <td>228.71</td>\n",
       "        </tr>\n",
       "        <tr>\n",
       "            <td>9</td>\n",
       "            <td>201.49232394366203</td>\n",
       "        </tr>\n",
       "        <tr>\n",
       "            <td>5</td>\n",
       "            <td>197.72118758434513</td>\n",
       "        </tr>\n",
       "        <tr>\n",
       "            <td>7</td>\n",
       "            <td>193.93626048071593</td>\n",
       "        </tr>\n",
       "        <tr>\n",
       "            <td>17</td>\n",
       "            <td>174.52285714285716</td>\n",
       "        </tr>\n",
       "        <tr>\n",
       "            <td>4</td>\n",
       "            <td>173.75893443666465</td>\n",
       "        </tr>\n",
       "        <tr>\n",
       "            <td>14</td>\n",
       "            <td>166.52125000000004</td>\n",
       "        </tr>\n",
       "        <tr>\n",
       "            <td>3</td>\n",
       "            <td>154.3177309323879</td>\n",
       "        </tr>\n",
       "        <tr>\n",
       "            <td>13</td>\n",
       "            <td>147.72421052631574</td>\n",
       "        </tr>\n",
       "        <tr>\n",
       "            <td>2</td>\n",
       "            <td>134.57077663384223</td>\n",
       "        </tr>\n",
       "        <tr>\n",
       "            <td>1</td>\n",
       "            <td>132.26724821610915</td>\n",
       "        </tr>\n",
       "        <tr>\n",
       "            <td>11</td>\n",
       "            <td>125.66136363636366</td>\n",
       "        </tr>\n",
       "        <tr>\n",
       "            <td>0</td>\n",
       "            <td>106.19</td>\n",
       "        </tr>\n",
       "    </tbody>\n",
       "</table>"
      ],
      "text/plain": [
       "[(24, 801.7379411764704),\n",
       " (20, 537.3609999999999),\n",
       " (18, 493.3452631578949),\n",
       " (10, 430.2689152542378),\n",
       " (16, 395.08142857142855),\n",
       " (15, 391.78626373626383),\n",
       " (12, 314.82859756097554),\n",
       " (8, 309.527668063037),\n",
       " (21, 258.86499999999995),\n",
       " (23, 236.48),\n",
       " (6, 234.96410690717173),\n",
       " (22, 228.71),\n",
       " (9, 201.49232394366203),\n",
       " (5, 197.72118758434513),\n",
       " (7, 193.93626048071593),\n",
       " (17, 174.52285714285716),\n",
       " (4, 173.75893443666465),\n",
       " (14, 166.52125000000004),\n",
       " (3, 154.3177309323879),\n",
       " (13, 147.72421052631574),\n",
       " (2, 134.57077663384223),\n",
       " (1, 132.26724821610915),\n",
       " (11, 125.66136363636366),\n",
       " (0, 106.19)]"
      ]
     },
     "execution_count": 57,
     "metadata": {},
     "output_type": "execute_result"
    }
   ],
   "source": [
    "%%sql\n",
    "SELECT payment_installments, AVG(payment_value) AS AVG_PAYMENT_VALUE\n",
    "FROM BRAZILIANORDERS\n",
    "GROUP BY payment_installments\n",
    "ORDER BY AVG_PAYMENT_VALUE DESC;"
   ]
  },
  {
   "cell_type": "markdown",
   "metadata": {},
   "source": [
    "### How many orders use multiple payment sequencials?"
   ]
  },
  {
   "cell_type": "code",
   "execution_count": 58,
   "metadata": {},
   "outputs": [
    {
     "name": "stdout",
     "output_type": "stream",
     "text": [
      " * sqlite:///brazilianData.db\n",
      "Done.\n"
     ]
    },
    {
     "data": {
      "text/html": [
       "<table>\n",
       "    <thead>\n",
       "        <tr>\n",
       "            <th>ORDER_NUM</th>\n",
       "        </tr>\n",
       "    </thead>\n",
       "    <tbody>\n",
       "        <tr>\n",
       "            <td>2937</td>\n",
       "        </tr>\n",
       "    </tbody>\n",
       "</table>"
      ],
      "text/plain": [
       "[(2937,)]"
      ]
     },
     "execution_count": 58,
     "metadata": {},
     "output_type": "execute_result"
    }
   ],
   "source": [
    "%%sql\n",
    "SELECT COUNT(DISTINCT order_id) AS ORDER_NUM\n",
    "FROM BRAZILIANORDERS\n",
    "WHERE payment_sequential > 1;"
   ]
  },
  {
   "cell_type": "code",
   "execution_count": null,
   "metadata": {},
   "outputs": [],
   "source": []
  },
  {
   "cell_type": "code",
   "execution_count": null,
   "metadata": {},
   "outputs": [],
   "source": []
  }
 ],
 "metadata": {
  "kernelspec": {
   "display_name": "Python 3 (ipykernel)",
   "language": "python",
   "name": "python3"
  },
  "language_info": {
   "codemirror_mode": {
    "name": "ipython",
    "version": 3
   },
   "file_extension": ".py",
   "mimetype": "text/x-python",
   "name": "python",
   "nbconvert_exporter": "python",
   "pygments_lexer": "ipython3",
   "version": "3.11.1"
  }
 },
 "nbformat": 4,
 "nbformat_minor": 4
}
